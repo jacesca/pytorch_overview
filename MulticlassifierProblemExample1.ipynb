{
 "cells": [
  {
   "cell_type": "markdown",
   "id": "dee87fba-4b2e-4a82-973a-e20cef93162d",
   "metadata": {},
   "source": [
    "# Predicting FaceMask Wearing\n",
    "\n",
    "Data source: masks_dataset.pickle\n",
    "\n",
    "Predicting: {0: 'No mask', 1: 'Mask', 2: 'Incorrect'}\n",
    "\n",
    "## 1. Prepare environment"
   ]
  },
  {
   "cell_type": "code",
   "execution_count": 1,
   "id": "7e02ee76-f03a-40ab-b7ca-96eb21dba662",
   "metadata": {},
   "outputs": [],
   "source": [
    "# Importing libraries\n",
    "import pandas as pd\n",
    "import numpy as np\n",
    "import matplotlib.pyplot as plt\n",
    "\n",
    "import torch\n",
    "import torch.nn as nn\n",
    "import torch.nn.functional as F\n",
    "\n",
    "from environment import prepare_environment\n",
    "\n",
    "from sklearn.metrics import confusion_matrix, ConfusionMatrixDisplay\n",
    "\n",
    "from torch.utils.data import TensorDataset, DataLoader, random_split\n",
    "from torchvision.transforms import v2\n",
    "from torchmetrics import Accuracy"
   ]
  },
  {
   "cell_type": "code",
   "execution_count": 2,
   "id": "f526cef4-e9fd-4e47-8db7-c6937e831364",
   "metadata": {},
   "outputs": [],
   "source": [
    "# Global variables\n",
    "SEED = 42"
   ]
  },
  {
   "cell_type": "code",
   "execution_count": 3,
   "id": "d08ec658-3082-43a3-9275-b09164cbc5d4",
   "metadata": {},
   "outputs": [
    {
     "data": {
      "text/plain": [
       "True"
      ]
     },
     "execution_count": 3,
     "metadata": {},
     "output_type": "execute_result"
    }
   ],
   "source": [
    "# Check if your GPU driver and CUDA is enabled and accessible by PyTorch\n",
    "torch.cuda.is_available()"
   ]
  },
  {
   "cell_type": "code",
   "execution_count": 4,
   "id": "0a381f7b-e8e3-49f2-b67d-7548979c78c8",
   "metadata": {},
   "outputs": [],
   "source": [
    "# Environment configuration\n",
    "torch.set_printoptions(precision=10)\n",
    "np.random.seed(SEED)\n",
    "\n",
    "prepare_environment()"
   ]
  },
  {
   "cell_type": "markdown",
   "id": "3be31c95-7e5a-42af-b9d5-bc99b15ce9ca",
   "metadata": {},
   "source": [
    "## 2. Read dataset"
   ]
  },
  {
   "cell_type": "code",
   "execution_count": 5,
   "id": "0b5f9f1c-a329-4eab-b9d8-39cf6eafe21f",
   "metadata": {},
   "outputs": [
    {
     "name": "stdout",
     "output_type": "stream",
     "text": [
      "\n",
      "Features: (355, 3, 32, 32) = 3072\n",
      "Target  : torch.Size([355, 3]) = 3\n",
      "\n"
     ]
    }
   ],
   "source": [
    "# Reading dataset\n",
    "features, labels = pd.read_pickle('data-sources/masks_dataset.pickle')\n",
    "\n",
    "# Reshaping the images set to have the channel in the second dimension\n",
    "features = np.transpose(features, (0, 3, 1, 2))\n",
    "\n",
    "# Encoding the target variable\n",
    "labels = F.one_hot(torch.tensor(labels), num_classes=len(set(labels)))\n",
    "\n",
    "print(f\"\"\"\n",
    "Features: {features.shape} = {np.prod(features.shape[1:])}\n",
    "Target  : {labels.shape} = {np.prod(labels.shape[1:])}\n",
    "\"\"\")"
   ]
  },
  {
   "cell_type": "markdown",
   "id": "97f64802-0008-429f-bc4b-f79738557b84",
   "metadata": {},
   "source": [
    "## 3. Split into train, valid and test"
   ]
  },
  {
   "cell_type": "code",
   "execution_count": 6,
   "id": "3ca2aa33-8927-4646-80cc-922782d6f8a5",
   "metadata": {},
   "outputs": [
    {
     "data": {
      "text/plain": [
       "(284, 36, 35)"
      ]
     },
     "execution_count": 6,
     "metadata": {},
     "output_type": "execute_result"
    }
   ],
   "source": [
    "# Instantiate dataset class\n",
    "dataset = TensorDataset(torch.tensor(features).float(), labels.float())\n",
    "\n",
    "# Splitting into training, validation and testing set\n",
    "set_train, set_val = random_split(dataset, [.8, .2])\n",
    "set_val, set_test = random_split(set_val, [.5, .5])\n",
    "\n",
    "len(set_train), len(set_val), len(set_test)"
   ]
  },
  {
   "cell_type": "code",
   "execution_count": 7,
   "id": "c0470a8a-0695-4cb7-a03a-59229ee50427",
   "metadata": {},
   "outputs": [
    {
     "data": {
      "text/plain": [
       "(1, 1, 1)"
      ]
     },
     "execution_count": 7,
     "metadata": {},
     "output_type": "execute_result"
    }
   ],
   "source": [
    "# Creating dataloaders\n",
    "loader_train = DataLoader(set_train, batch_size=500, shuffle=True)\n",
    "loader_val = DataLoader(set_val, batch_size=500, shuffle=True)\n",
    "loader_test = DataLoader(set_test, batch_size=500, shuffle=True)\n",
    "\n",
    "len(loader_train), len(loader_val), len(loader_test)  # Just one batch created"
   ]
  },
  {
   "cell_type": "markdown",
   "id": "5b3115c0-1afe-4587-b244-b555e198de51",
   "metadata": {},
   "source": [
    "## 4. Build the model"
   ]
  },
  {
   "cell_type": "code",
   "execution_count": 8,
   "id": "97f692f7-e605-42af-bbcb-7c603e43a0dd",
   "metadata": {},
   "outputs": [],
   "source": [
    "# Getting mean and std per channel in images:\n",
    "mean = np.mean(features, axis=(0, 2, 3))\n",
    "std = np.std(features, axis=(0, 2, 3))\n",
    "\n",
    "# Create multi classification model\n",
    "model = nn.Sequential(\n",
    "    v2.Normalize(mean=mean, std=std),\n",
    "    nn.Flatten(),\n",
    "    nn.Linear(3072, 3),\n",
    "    nn.Softmax(dim=-1)  # Softmax activation\n",
    ")\n",
    "\n",
    "criterion = nn.CrossEntropyLoss()\n",
    "optimizer = torch.optim.SGD(model.parameters(), lr=0.001, momentum=0.95)\n",
    "\n",
    "# Create accuracy metric\n",
    "accuracy = Accuracy(task=\"multiclass\", num_classes=3)"
   ]
  },
  {
   "cell_type": "markdown",
   "id": "b5fb9c61-a0f5-4a7c-86e6-8984573620fd",
   "metadata": {},
   "source": [
    "## 5. Train on the training set"
   ]
  },
  {
   "cell_type": "code",
   "execution_count": 9,
   "id": "fd0ceb01-57a7-4d0a-a6c9-4d093c893d87",
   "metadata": {},
   "outputs": [
    {
     "name": "stdout",
     "output_type": "stream",
     "text": [
      "Epoch [100], Loss: 0.6897\n",
      "Epoch [200], Loss: 0.6256\n",
      "Epoch [300], Loss: 0.6049\n",
      "Epoch [400], Loss: 0.5967\n",
      "Epoch [500], Loss: 0.5922\n",
      "Epoch [600], Loss: 0.5892\n",
      "Epoch [700], Loss: 0.5872\n",
      "Epoch [800], Loss: 0.5857\n",
      "Epoch [900], Loss: 0.5845\n",
      "Epoch [1000], Loss: 0.5836\n",
      "Training Accuracy: 0.9507429599761963\n"
     ]
    }
   ],
   "source": [
    "# Set the model to training mode\n",
    "model.train()\n",
    "\n",
    "# Loop through the dataset multiple times\n",
    "losses = []\n",
    "epochs = int(1e3)\n",
    "for epoch in range(epochs):\n",
    "    for data in loader_train:\n",
    "        X, y = data                                # Get feature and target from the data loader\n",
    "        optimizer.zero_grad()                      # zero the parameter gradients\n",
    "        y_pred = model(X)                          # Run a forward pass\n",
    "        loss = criterion(y_pred, y)                # Compute loss \n",
    "        loss.backward()                            # Backward pass\n",
    "        optimizer.step()                           # Optimization\n",
    "        acc = accuracy(y_pred, y.argmax(dim=-1))   # Calculate accuracy\n",
    "    \n",
    "    losses.append(loss.item())         # Record the loss per epoch\n",
    "    if (epoch + 1) % 100 == 0:         # Print the loss every 100 epochs\n",
    "        print(f'Epoch [{epoch+1}], Loss: {loss.item():.4f}')\n",
    "\n",
    "training_loss = loss\n",
    "training_acc = accuracy.compute()\n",
    "print(f\"Training Accuracy: {training_acc}\")\n",
    "\n",
    "# Reset the metric for next evaluation \n",
    "accuracy.reset()"
   ]
  },
  {
   "cell_type": "code",
   "execution_count": 10,
   "id": "bf281ea6-d5fd-4a3a-9ebf-e21d1f7c6213",
   "metadata": {},
   "outputs": [
    {
     "data": {
      "image/png": "[encoded data removed]",
      "text/plain": [
       "<Figure size 600x400 with 1 Axes>"
      ]
     },
     "metadata": {},
     "output_type": "display_data"
    }
   ],
   "source": [
    "# Visualizing the loss data in training set\n",
    "fig = plt.figure(figsize=(6,4))\n",
    "plt.plot(range(epochs), losses)\n",
    "plt.title(\"Training Loss over Epochs\")\n",
    "plt.xlabel('Epochs')\n",
    "plt.ylabel('Loss')\n",
    "plt.show()"
   ]
  },
  {
   "cell_type": "markdown",
   "id": "78430dc6-e0d8-4a9c-abf2-9bd861377672",
   "metadata": {},
   "source": [
    "## 6. Evaluate model"
   ]
  },
  {
   "cell_type": "code",
   "execution_count": 11,
   "id": "e335d514-4d78-4d91-97d4-d7cb20effa89",
   "metadata": {},
   "outputs": [
    {
     "name": "stdout",
     "output_type": "stream",
     "text": [
      "Training   Set: Loss >> 0.58357834815979, Accuracy >> 0.9507429599761963\n",
      "Validation Set: Loss >> 0.7093584537506104, Accuracy >> 0.8333333134651184\n"
     ]
    }
   ],
   "source": [
    "# Set the model to evaluation mode\n",
    "model.eval()\n",
    "\n",
    "# Iterating over validation dataloader\n",
    "with torch.no_grad():\n",
    "    for data in loader_val:\n",
    "        X, y = data                                # Get feature and target from the data loader\n",
    "        y_pred = model(X)                          # Get predictions\n",
    "        loss = criterion(y_pred, y)                # Calculate the loss\n",
    "        acc = accuracy(y_pred, y.argmax(dim=-1))   # Calculate accuracy\n",
    "        \n",
    "acc = accuracy.compute()\n",
    "\n",
    "# Calculate the mean loss value\n",
    "print(f'Training   Set: Loss >> {training_loss}, Accuracy >> {training_acc}')\n",
    "print(f'Validation Set: Loss >> {loss}, Accuracy >> {acc}')\n",
    "\n",
    "# Reset the metric for next evaluation \n",
    "accuracy.reset()"
   ]
  },
  {
   "cell_type": "code",
   "execution_count": 12,
   "id": "df557c57-9789-41b0-a09d-554b1ce07557",
   "metadata": {},
   "outputs": [
    {
     "data": {
      "text/plain": [
       "<sklearn.metrics._plot.confusion_matrix.ConfusionMatrixDisplay at 0x168a60d3f70>"
      ]
     },
     "execution_count": 12,
     "metadata": {},
     "output_type": "execute_result"
    },
    {
     "data": {
      "image/png": "[encoded data removed]",
      "text/plain": [
       "<Figure size 640x480 with 2 Axes>"
      ]
     },
     "metadata": {},
     "output_type": "display_data"
    }
   ],
   "source": [
    "cm = confusion_matrix(y.argmax(dim=-1).numpy().flatten(), \n",
    "                      y_pred.argmax(dim=-1).numpy().flatten())\n",
    "disp = ConfusionMatrixDisplay(confusion_matrix=cm)\n",
    "disp.plot()"
   ]
  },
  {
   "cell_type": "code",
   "execution_count": 13,
   "id": "66ebc2c7-2881-494a-bb6b-24f5914e4532",
   "metadata": {},
   "outputs": [
    {
     "data": {
      "text/html": [
       "<div>\n",
       "<style scoped>\n",
       "    .dataframe tbody tr th:only-of-type {\n",
       "        vertical-align: middle;\n",
       "    }\n",
       "\n",
       "    .dataframe tbody tr th {\n",
       "        vertical-align: top;\n",
       "    }\n",
       "\n",
       "    .dataframe thead th {\n",
       "        text-align: right;\n",
       "    }\n",
       "</style>\n",
       "<table border=\"1\" class=\"dataframe\">\n",
       "  <thead>\n",
       "    <tr style=\"text-align: right;\">\n",
       "      <th></th>\n",
       "      <th>y_true</th>\n",
       "      <th>y_pred</th>\n",
       "      <th>Accerted</th>\n",
       "    </tr>\n",
       "  </thead>\n",
       "  <tbody>\n",
       "    <tr>\n",
       "      <th>0</th>\n",
       "      <td>0</td>\n",
       "      <td>0</td>\n",
       "      <td>True</td>\n",
       "    </tr>\n",
       "    <tr>\n",
       "      <th>1</th>\n",
       "      <td>1</td>\n",
       "      <td>1</td>\n",
       "      <td>True</td>\n",
       "    </tr>\n",
       "    <tr>\n",
       "      <th>2</th>\n",
       "      <td>1</td>\n",
       "      <td>1</td>\n",
       "      <td>True</td>\n",
       "    </tr>\n",
       "    <tr>\n",
       "      <th>3</th>\n",
       "      <td>2</td>\n",
       "      <td>2</td>\n",
       "      <td>True</td>\n",
       "    </tr>\n",
       "    <tr>\n",
       "      <th>4</th>\n",
       "      <td>2</td>\n",
       "      <td>2</td>\n",
       "      <td>True</td>\n",
       "    </tr>\n",
       "    <tr>\n",
       "      <th>5</th>\n",
       "      <td>0</td>\n",
       "      <td>0</td>\n",
       "      <td>True</td>\n",
       "    </tr>\n",
       "    <tr>\n",
       "      <th>6</th>\n",
       "      <td>1</td>\n",
       "      <td>1</td>\n",
       "      <td>True</td>\n",
       "    </tr>\n",
       "    <tr>\n",
       "      <th>7</th>\n",
       "      <td>0</td>\n",
       "      <td>0</td>\n",
       "      <td>True</td>\n",
       "    </tr>\n",
       "    <tr>\n",
       "      <th>8</th>\n",
       "      <td>1</td>\n",
       "      <td>1</td>\n",
       "      <td>True</td>\n",
       "    </tr>\n",
       "    <tr>\n",
       "      <th>9</th>\n",
       "      <td>0</td>\n",
       "      <td>0</td>\n",
       "      <td>True</td>\n",
       "    </tr>\n",
       "    <tr>\n",
       "      <th>10</th>\n",
       "      <td>0</td>\n",
       "      <td>1</td>\n",
       "      <td></td>\n",
       "    </tr>\n",
       "    <tr>\n",
       "      <th>11</th>\n",
       "      <td>1</td>\n",
       "      <td>1</td>\n",
       "      <td>True</td>\n",
       "    </tr>\n",
       "    <tr>\n",
       "      <th>12</th>\n",
       "      <td>2</td>\n",
       "      <td>2</td>\n",
       "      <td>True</td>\n",
       "    </tr>\n",
       "    <tr>\n",
       "      <th>13</th>\n",
       "      <td>0</td>\n",
       "      <td>0</td>\n",
       "      <td>True</td>\n",
       "    </tr>\n",
       "    <tr>\n",
       "      <th>14</th>\n",
       "      <td>0</td>\n",
       "      <td>0</td>\n",
       "      <td>True</td>\n",
       "    </tr>\n",
       "    <tr>\n",
       "      <th>15</th>\n",
       "      <td>1</td>\n",
       "      <td>1</td>\n",
       "      <td>True</td>\n",
       "    </tr>\n",
       "    <tr>\n",
       "      <th>16</th>\n",
       "      <td>0</td>\n",
       "      <td>0</td>\n",
       "      <td>True</td>\n",
       "    </tr>\n",
       "    <tr>\n",
       "      <th>17</th>\n",
       "      <td>2</td>\n",
       "      <td>0</td>\n",
       "      <td></td>\n",
       "    </tr>\n",
       "    <tr>\n",
       "      <th>18</th>\n",
       "      <td>0</td>\n",
       "      <td>0</td>\n",
       "      <td>True</td>\n",
       "    </tr>\n",
       "    <tr>\n",
       "      <th>19</th>\n",
       "      <td>1</td>\n",
       "      <td>0</td>\n",
       "      <td></td>\n",
       "    </tr>\n",
       "    <tr>\n",
       "      <th>20</th>\n",
       "      <td>0</td>\n",
       "      <td>0</td>\n",
       "      <td>True</td>\n",
       "    </tr>\n",
       "    <tr>\n",
       "      <th>21</th>\n",
       "      <td>1</td>\n",
       "      <td>2</td>\n",
       "      <td></td>\n",
       "    </tr>\n",
       "    <tr>\n",
       "      <th>22</th>\n",
       "      <td>1</td>\n",
       "      <td>1</td>\n",
       "      <td>True</td>\n",
       "    </tr>\n",
       "    <tr>\n",
       "      <th>23</th>\n",
       "      <td>0</td>\n",
       "      <td>0</td>\n",
       "      <td>True</td>\n",
       "    </tr>\n",
       "    <tr>\n",
       "      <th>24</th>\n",
       "      <td>0</td>\n",
       "      <td>0</td>\n",
       "      <td>True</td>\n",
       "    </tr>\n",
       "    <tr>\n",
       "      <th>25</th>\n",
       "      <td>0</td>\n",
       "      <td>0</td>\n",
       "      <td>True</td>\n",
       "    </tr>\n",
       "    <tr>\n",
       "      <th>26</th>\n",
       "      <td>0</td>\n",
       "      <td>0</td>\n",
       "      <td>True</td>\n",
       "    </tr>\n",
       "    <tr>\n",
       "      <th>27</th>\n",
       "      <td>0</td>\n",
       "      <td>1</td>\n",
       "      <td></td>\n",
       "    </tr>\n",
       "    <tr>\n",
       "      <th>28</th>\n",
       "      <td>1</td>\n",
       "      <td>1</td>\n",
       "      <td>True</td>\n",
       "    </tr>\n",
       "    <tr>\n",
       "      <th>29</th>\n",
       "      <td>0</td>\n",
       "      <td>0</td>\n",
       "      <td>True</td>\n",
       "    </tr>\n",
       "    <tr>\n",
       "      <th>30</th>\n",
       "      <td>1</td>\n",
       "      <td>1</td>\n",
       "      <td>True</td>\n",
       "    </tr>\n",
       "    <tr>\n",
       "      <th>31</th>\n",
       "      <td>1</td>\n",
       "      <td>2</td>\n",
       "      <td></td>\n",
       "    </tr>\n",
       "    <tr>\n",
       "      <th>32</th>\n",
       "      <td>1</td>\n",
       "      <td>1</td>\n",
       "      <td>True</td>\n",
       "    </tr>\n",
       "    <tr>\n",
       "      <th>33</th>\n",
       "      <td>1</td>\n",
       "      <td>1</td>\n",
       "      <td>True</td>\n",
       "    </tr>\n",
       "    <tr>\n",
       "      <th>34</th>\n",
       "      <td>1</td>\n",
       "      <td>1</td>\n",
       "      <td>True</td>\n",
       "    </tr>\n",
       "    <tr>\n",
       "      <th>35</th>\n",
       "      <td>1</td>\n",
       "      <td>1</td>\n",
       "      <td>True</td>\n",
       "    </tr>\n",
       "  </tbody>\n",
       "</table>\n",
       "</div>"
      ],
      "text/plain": [
       "    y_true  y_pred Accerted\n",
       "0        0       0     True\n",
       "1        1       1     True\n",
       "2        1       1     True\n",
       "3        2       2     True\n",
       "4        2       2     True\n",
       "5        0       0     True\n",
       "6        1       1     True\n",
       "7        0       0     True\n",
       "8        1       1     True\n",
       "9        0       0     True\n",
       "10       0       1         \n",
       "11       1       1     True\n",
       "12       2       2     True\n",
       "13       0       0     True\n",
       "14       0       0     True\n",
       "15       1       1     True\n",
       "16       0       0     True\n",
       "17       2       0         \n",
       "18       0       0     True\n",
       "19       1       0         \n",
       "20       0       0     True\n",
       "21       1       2         \n",
       "22       1       1     True\n",
       "23       0       0     True\n",
       "24       0       0     True\n",
       "25       0       0     True\n",
       "26       0       0     True\n",
       "27       0       1         \n",
       "28       1       1     True\n",
       "29       0       0     True\n",
       "30       1       1     True\n",
       "31       1       2         \n",
       "32       1       1     True\n",
       "33       1       1     True\n",
       "34       1       1     True\n",
       "35       1       1     True"
      ]
     },
     "execution_count": 13,
     "metadata": {},
     "output_type": "execute_result"
    }
   ],
   "source": [
    "pd.DataFrame({\n",
    "    'y_true': y.argmax(dim=-1).numpy().flatten(),\n",
    "    'y_pred': y_pred.argmax(dim=-1).numpy().flatten(),\n",
    "    'Accerted': ['True' \n",
    "                 if y[i].argmax(dim=-1).numpy().flatten() == y_pred[i].argmax(dim=-1).numpy().flatten()\n",
    "                 else ''\n",
    "                 for i in range(len(y))] \n",
    "})"
   ]
  },
  {
   "cell_type": "markdown",
   "id": "7c6dfe79-b01c-4f68-8e5c-743d36fb7197",
   "metadata": {},
   "source": [
    "----------------------------------"
   ]
  }
 ],
 "metadata": {
  "kernelspec": {
   "display_name": "Python 3 (ipykernel)",
   "language": "python",
   "name": "python3"
  },
  "language_info": {
   "codemirror_mode": {
    "name": "ipython",
    "version": 3
   },
   "file_extension": ".py",
   "mimetype": "text/x-python",
   "name": "python",
   "nbconvert_exporter": "python",
   "pygments_lexer": "ipython3",
   "version": "3.8.19"
  }
 },
 "nbformat": 4,
 "nbformat_minor": 5
}
