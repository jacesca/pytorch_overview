{
 "cells": [
  {
   "cell_type": "markdown",
   "id": "dee87fba-4b2e-4a82-973a-e20cef93162d",
   "metadata": {},
   "source": [
    "# Predicting Salary\n",
    "\n",
    "Data source: Data Science Salary\n",
    "\n",
    "## 1. Prepare environment"
   ]
  },
  {
   "cell_type": "code",
   "execution_count": 1,
   "id": "7e02ee76-f03a-40ab-b7ca-96eb21dba662",
   "metadata": {},
   "outputs": [],
   "source": [
    "# Importing libraries\n",
    "import pandas as pd\n",
    "import numpy as np\n",
    "import matplotlib.pyplot as plt\n",
    "\n",
    "import torch\n",
    "import torch.nn as nn\n",
    "\n",
    "from environment import prepare_environment\n",
    "from torch.utils.data import TensorDataset, DataLoader, random_split"
   ]
  },
  {
   "cell_type": "code",
   "execution_count": 2,
   "id": "f526cef4-e9fd-4e47-8db7-c6937e831364",
   "metadata": {},
   "outputs": [],
   "source": [
    "# Global variables\n",
    "SEED = 42"
   ]
  },
  {
   "cell_type": "code",
   "execution_count": 3,
   "id": "d08ec658-3082-43a3-9275-b09164cbc5d4",
   "metadata": {},
   "outputs": [
    {
     "data": {
      "text/plain": [
       "True"
      ]
     },
     "execution_count": 3,
     "metadata": {},
     "output_type": "execute_result"
    }
   ],
   "source": [
    "# Check if your GPU driver and CUDA is enabled and accessible by PyTorch\n",
    "torch.cuda.is_available()"
   ]
  },
  {
   "cell_type": "code",
   "execution_count": 4,
   "id": "0a381f7b-e8e3-49f2-b67d-7548979c78c8",
   "metadata": {},
   "outputs": [],
   "source": [
    "# Environment configuration\n",
    "torch.set_printoptions(precision=10)\n",
    "np.random.seed(SEED)\n",
    "\n",
    "prepare_environment()"
   ]
  },
  {
   "cell_type": "markdown",
   "id": "3be31c95-7e5a-42af-b9d5-bc99b15ce9ca",
   "metadata": {},
   "source": [
    "## 2. Read dataset"
   ]
  },
  {
   "cell_type": "code",
   "execution_count": 5,
   "id": "0b5f9f1c-a329-4eab-b9d8-39cf6eafe21f",
   "metadata": {},
   "outputs": [
    {
     "data": {
      "text/html": [
       "<div>\n",
       "<style scoped>\n",
       "    .dataframe tbody tr th:only-of-type {\n",
       "        vertical-align: middle;\n",
       "    }\n",
       "\n",
       "    .dataframe tbody tr th {\n",
       "        vertical-align: top;\n",
       "    }\n",
       "\n",
       "    .dataframe thead th {\n",
       "        text-align: right;\n",
       "    }\n",
       "</style>\n",
       "<table border=\"1\" class=\"dataframe\">\n",
       "  <thead>\n",
       "    <tr style=\"text-align: right;\">\n",
       "      <th></th>\n",
       "      <th>experience_level</th>\n",
       "      <th>employment_type</th>\n",
       "      <th>remote_ratio</th>\n",
       "      <th>company_size</th>\n",
       "      <th>salary_in_usd</th>\n",
       "    </tr>\n",
       "  </thead>\n",
       "  <tbody>\n",
       "    <tr>\n",
       "      <th>0</th>\n",
       "      <td>0</td>\n",
       "      <td>2</td>\n",
       "      <td>0.5</td>\n",
       "      <td>0</td>\n",
       "      <td>0.102982</td>\n",
       "    </tr>\n",
       "    <tr>\n",
       "      <th>1</th>\n",
       "      <td>3</td>\n",
       "      <td>2</td>\n",
       "      <td>1.0</td>\n",
       "      <td>0</td>\n",
       "      <td>0.109780</td>\n",
       "    </tr>\n",
       "    <tr>\n",
       "      <th>2</th>\n",
       "      <td>1</td>\n",
       "      <td>2</td>\n",
       "      <td>0.0</td>\n",
       "      <td>1</td>\n",
       "      <td>0.137533</td>\n",
       "    </tr>\n",
       "    <tr>\n",
       "      <th>3</th>\n",
       "      <td>1</td>\n",
       "      <td>2</td>\n",
       "      <td>0.5</td>\n",
       "      <td>0</td>\n",
       "      <td>0.380363</td>\n",
       "    </tr>\n",
       "    <tr>\n",
       "      <th>4</th>\n",
       "      <td>0</td>\n",
       "      <td>2</td>\n",
       "      <td>1.0</td>\n",
       "      <td>2</td>\n",
       "      <td>0.204520</td>\n",
       "    </tr>\n",
       "  </tbody>\n",
       "</table>\n",
       "</div>"
      ],
      "text/plain": [
       "   experience_level  employment_type  remote_ratio  company_size  \\\n",
       "0                 0                2           0.5             0   \n",
       "1                 3                2           1.0             0   \n",
       "2                 1                2           0.0             1   \n",
       "3                 1                2           0.5             0   \n",
       "4                 0                2           1.0             2   \n",
       "\n",
       "   salary_in_usd  \n",
       "0       0.102982  \n",
       "1       0.109780  \n",
       "2       0.137533  \n",
       "3       0.380363  \n",
       "4       0.204520  "
      ]
     },
     "execution_count": 5,
     "metadata": {},
     "output_type": "execute_result"
    }
   ],
   "source": [
    "df = pd.read_csv('data-sources/data-salaries.csv')\n",
    "df = df[['experience_level', 'employment_type', 'remote_ratio',\n",
    "         'company_size', 'salary_in_usd']]\n",
    "\n",
    "# Encoding categorical variables\n",
    "df['experience_level'] = df.experience_level.astype('category').cat.codes\n",
    "df['employment_type'] = df.employment_type.astype('category').cat.codes\n",
    "df['company_size'] = df.company_size.astype('category').cat.codes\n",
    "\n",
    "# Normalizing numerical variables\n",
    "min_sal = df.salary_in_usd.min()\n",
    "max_sal = df.salary_in_usd.max()\n",
    "df['remote_ratio'] = (df.remote_ratio-df.remote_ratio.min())/(df.remote_ratio.max()-df.remote_ratio.min())\n",
    "df['salary_in_usd'] = (df.salary_in_usd-min_sal)/(max_sal-min_sal)\n",
    "\n",
    "df.head()"
   ]
  },
  {
   "cell_type": "markdown",
   "id": "97f64802-0008-429f-bc4b-f79738557b84",
   "metadata": {},
   "source": [
    "## 3. Split into train, valid and test"
   ]
  },
  {
   "cell_type": "code",
   "execution_count": 6,
   "id": "3ca2aa33-8927-4646-80cc-922782d6f8a5",
   "metadata": {},
   "outputs": [
    {
     "data": {
      "text/plain": [
       "(196, 25, 24)"
      ]
     },
     "execution_count": 6,
     "metadata": {},
     "output_type": "execute_result"
    }
   ],
   "source": [
    "# Setting X and y\n",
    "features = df.drop(columns='salary_in_usd').values\n",
    "labels = df[['salary_in_usd']].values\n",
    "\n",
    "# Instantiate dataset class\n",
    "dataset = TensorDataset(torch.tensor(features).float(),\n",
    "                        torch.tensor(labels).float())\n",
    "\n",
    "# Splitting into training, validation and testing set\n",
    "set_train, set_val = random_split(dataset, [.8, .2])\n",
    "set_val, set_test = random_split(set_val, [.5, .5])\n",
    "\n",
    "len(set_train), len(set_val), len(set_test)"
   ]
  },
  {
   "cell_type": "code",
   "execution_count": 7,
   "id": "c0470a8a-0695-4cb7-a03a-59229ee50427",
   "metadata": {},
   "outputs": [
    {
     "data": {
      "text/plain": [
       "(1, 1, 1)"
      ]
     },
     "execution_count": 7,
     "metadata": {},
     "output_type": "execute_result"
    }
   ],
   "source": [
    "# Creating dataloaders\n",
    "loader_train = DataLoader(set_train, batch_size=200, shuffle=True)\n",
    "loader_val = DataLoader(set_val, batch_size=200, shuffle=True)\n",
    "loader_test = DataLoader(set_test, batch_size=200, shuffle=True)\n",
    "\n",
    "len(loader_train), len(loader_val), len(loader_test)  # Just one batch created"
   ]
  },
  {
   "cell_type": "markdown",
   "id": "5b3115c0-1afe-4587-b244-b555e198de51",
   "metadata": {},
   "source": [
    "## 4. Build the model"
   ]
  },
  {
   "cell_type": "code",
   "execution_count": 8,
   "id": "97f692f7-e605-42af-bbcb-7c603e43a0dd",
   "metadata": {},
   "outputs": [],
   "source": [
    "# Create linear regression model\n",
    "model = nn.Sequential(\n",
    "    nn.Linear(4, 6),\n",
    "    nn.Linear(6, 3),\n",
    "    nn.Linear(3, 1),\n",
    "    nn.Sigmoid() # Regression problem\n",
    ")\n",
    "\n",
    "criterion = nn.MSELoss()\n",
    "optimizer = torch.optim.SGD(model.parameters(), lr=0.001, momentum=0.9)"
   ]
  },
  {
   "cell_type": "markdown",
   "id": "b5fb9c61-a0f5-4a7c-86e6-8984573620fd",
   "metadata": {},
   "source": [
    "## 5. Train on the training set"
   ]
  },
  {
   "cell_type": "code",
   "execution_count": 9,
   "id": "fd0ceb01-57a7-4d0a-a6c9-4d093c893d87",
   "metadata": {},
   "outputs": [
    {
     "name": "stdout",
     "output_type": "stream",
     "text": [
      "Epoch [100], Loss: 0.0440\n",
      "Epoch [200], Loss: 0.0295\n",
      "Epoch [300], Loss: 0.0253\n",
      "Epoch [400], Loss: 0.0238\n",
      "Epoch [500], Loss: 0.0231\n",
      "Epoch [600], Loss: 0.0227\n",
      "Epoch [700], Loss: 0.0224\n",
      "Epoch [800], Loss: 0.0222\n",
      "Epoch [900], Loss: 0.0220\n",
      "Epoch [1000], Loss: 0.0218\n"
     ]
    }
   ],
   "source": [
    "# Set the model to training mode\n",
    "model.train()\n",
    "\n",
    "# Loop through the dataset multiple times\n",
    "losses = []\n",
    "epochs = int(1e3)\n",
    "for epoch in range(epochs):\n",
    "    for data in loader_train:\n",
    "        X, y = data                    # Get feature and target from the data loader\n",
    "        optimizer.zero_grad()          # zero the parameter gradients\n",
    "        y_pred = model(X)              # Run a forward pass\n",
    "        loss = criterion(y_pred, y)    # Compute loss \n",
    "        loss.backward()                # Backward pass\n",
    "        optimizer.step()               # Optimization\n",
    "    \n",
    "    losses.append(loss.item())         # Record the loss per epoch\n",
    "    if (epoch + 1) % 100 == 0:         # Print the loss every 100 epochs\n",
    "        print(f'Epoch [{epoch+1}], Loss: {loss.item():.4f}')\n",
    "\n",
    "training_loss = loss"
   ]
  },
  {
   "cell_type": "code",
   "execution_count": 10,
   "id": "bf281ea6-d5fd-4a3a-9ebf-e21d1f7c6213",
   "metadata": {},
   "outputs": [
    {
     "data": {
      "image/png": "[encoded data removed]",
      "text/plain": [
       "<Figure size 600x400 with 1 Axes>"
      ]
     },
     "metadata": {},
     "output_type": "display_data"
    }
   ],
   "source": [
    "# Visualizing the loss data in training set\n",
    "fig = plt.figure(figsize=(6,4))\n",
    "plt.plot(range(epochs), losses)\n",
    "plt.title(\"Training Loss over Epochs\")\n",
    "plt.xlabel('Epochs')\n",
    "plt.ylabel('Loss')\n",
    "plt.show()"
   ]
  },
  {
   "cell_type": "markdown",
   "id": "78430dc6-e0d8-4a9c-abf2-9bd861377672",
   "metadata": {},
   "source": [
    "## 6. Evaluate model"
   ]
  },
  {
   "cell_type": "code",
   "execution_count": 11,
   "id": "e335d514-4d78-4d91-97d4-d7cb20effa89",
   "metadata": {},
   "outputs": [
    {
     "name": "stdout",
     "output_type": "stream",
     "text": [
      "Training   Set: Loss >> 0.021784542128443718\n",
      "Validation Set: Loss >> 0.014137735590338707\n"
     ]
    }
   ],
   "source": [
    "# Set the model to evaluation mode\n",
    "model.eval()\n",
    "\n",
    "# Iterating over validation dataloader\n",
    "with torch.no_grad():\n",
    "    for data in loader_val:\n",
    "        X, y = data                   # Get feature and target from the data loader\n",
    "        y_pred = model(X)             # Get predictions\n",
    "        loss = criterion(y_pred, y)   # Calculate the loss\n",
    "      \n",
    "# Comparing loss value\n",
    "print(f'Training   Set: Loss >> {training_loss}')\n",
    "print(f'Validation Set: Loss >> {loss}')"
   ]
  },
  {
   "cell_type": "code",
   "execution_count": 12,
   "id": "66ebc2c7-2881-494a-bb6b-24f5914e4532",
   "metadata": {},
   "outputs": [
    {
     "data": {
      "text/html": [
       "<div>\n",
       "<style scoped>\n",
       "    .dataframe tbody tr th:only-of-type {\n",
       "        vertical-align: middle;\n",
       "    }\n",
       "\n",
       "    .dataframe tbody tr th {\n",
       "        vertical-align: top;\n",
       "    }\n",
       "\n",
       "    .dataframe thead th {\n",
       "        text-align: right;\n",
       "    }\n",
       "</style>\n",
       "<table border=\"1\" class=\"dataframe\">\n",
       "  <thead>\n",
       "    <tr style=\"text-align: right;\">\n",
       "      <th></th>\n",
       "      <th>y_true</th>\n",
       "      <th>y_pred</th>\n",
       "      <th>Diff</th>\n",
       "      <th>Expected Salary</th>\n",
       "      <th>Predicted Salary</th>\n",
       "    </tr>\n",
       "  </thead>\n",
       "  <tbody>\n",
       "    <tr>\n",
       "      <th>0</th>\n",
       "      <td>0.144905</td>\n",
       "      <td>0.155309</td>\n",
       "      <td>-0.010404</td>\n",
       "      <td>89401.995735</td>\n",
       "      <td>95614.548386</td>\n",
       "    </tr>\n",
       "    <tr>\n",
       "      <th>1</th>\n",
       "      <td>0.204520</td>\n",
       "      <td>0.187669</td>\n",
       "      <td>0.016852</td>\n",
       "      <td>124999.997431</td>\n",
       "      <td>114937.366786</td>\n",
       "    </tr>\n",
       "    <tr>\n",
       "      <th>2</th>\n",
       "      <td>0.310026</td>\n",
       "      <td>0.106760</td>\n",
       "      <td>0.203266</td>\n",
       "      <td>187999.994850</td>\n",
       "      <td>66624.853062</td>\n",
       "    </tr>\n",
       "    <tr>\n",
       "      <th>3</th>\n",
       "      <td>0.142491</td>\n",
       "      <td>0.104876</td>\n",
       "      <td>0.037615</td>\n",
       "      <td>87960.999287</td>\n",
       "      <td>65500.268288</td>\n",
       "    </tr>\n",
       "    <tr>\n",
       "      <th>4</th>\n",
       "      <td>0.162653</td>\n",
       "      <td>0.261821</td>\n",
       "      <td>-0.099168</td>\n",
       "      <td>100000.000574</td>\n",
       "      <td>159215.781817</td>\n",
       "    </tr>\n",
       "    <tr>\n",
       "      <th>5</th>\n",
       "      <td>0.094997</td>\n",
       "      <td>0.190722</td>\n",
       "      <td>-0.095725</td>\n",
       "      <td>59600.999720</td>\n",
       "      <td>116760.596687</td>\n",
       "    </tr>\n",
       "    <tr>\n",
       "      <th>6</th>\n",
       "      <td>0.001882</td>\n",
       "      <td>0.259902</td>\n",
       "      <td>-0.258020</td>\n",
       "      <td>4000.000019</td>\n",
       "      <td>158069.935651</td>\n",
       "    </tr>\n",
       "    <tr>\n",
       "      <th>7</th>\n",
       "      <td>0.196147</td>\n",
       "      <td>0.152455</td>\n",
       "      <td>0.043691</td>\n",
       "      <td>119999.998060</td>\n",
       "      <td>93910.816489</td>\n",
       "    </tr>\n",
       "    <tr>\n",
       "      <th>8</th>\n",
       "      <td>0.021922</td>\n",
       "      <td>0.146482</td>\n",
       "      <td>-0.124560</td>\n",
       "      <td>15965.999805</td>\n",
       "      <td>90343.672041</td>\n",
       "    </tr>\n",
       "    <tr>\n",
       "      <th>9</th>\n",
       "      <td>0.271508</td>\n",
       "      <td>0.106760</td>\n",
       "      <td>0.164748</td>\n",
       "      <td>165000.001300</td>\n",
       "      <td>66624.853062</td>\n",
       "    </tr>\n",
       "    <tr>\n",
       "      <th>10</th>\n",
       "      <td>0.144905</td>\n",
       "      <td>0.129216</td>\n",
       "      <td>0.015689</td>\n",
       "      <td>89401.995735</td>\n",
       "      <td>80033.850476</td>\n",
       "    </tr>\n",
       "    <tr>\n",
       "      <th>11</th>\n",
       "      <td>0.179400</td>\n",
       "      <td>0.181078</td>\n",
       "      <td>-0.001678</td>\n",
       "      <td>109999.999317</td>\n",
       "      <td>111002.118657</td>\n",
       "    </tr>\n",
       "    <tr>\n",
       "      <th>12</th>\n",
       "      <td>0.208779</td>\n",
       "      <td>0.127876</td>\n",
       "      <td>0.080903</td>\n",
       "      <td>127543.000382</td>\n",
       "      <td>79233.712126</td>\n",
       "    </tr>\n",
       "    <tr>\n",
       "      <th>13</th>\n",
       "      <td>0.130834</td>\n",
       "      <td>0.220831</td>\n",
       "      <td>-0.089997</td>\n",
       "      <td>80999.995845</td>\n",
       "      <td>134739.538573</td>\n",
       "    </tr>\n",
       "    <tr>\n",
       "      <th>14</th>\n",
       "      <td>0.241364</td>\n",
       "      <td>0.155309</td>\n",
       "      <td>0.086055</td>\n",
       "      <td>146999.998225</td>\n",
       "      <td>95614.548386</td>\n",
       "    </tr>\n",
       "    <tr>\n",
       "      <th>15</th>\n",
       "      <td>0.087292</td>\n",
       "      <td>0.106760</td>\n",
       "      <td>-0.019468</td>\n",
       "      <td>55000.001783</td>\n",
       "      <td>66624.853062</td>\n",
       "    </tr>\n",
       "    <tr>\n",
       "      <th>16</th>\n",
       "      <td>0.112412</td>\n",
       "      <td>0.189190</td>\n",
       "      <td>-0.076778</td>\n",
       "      <td>69999.999897</td>\n",
       "      <td>115846.174467</td>\n",
       "    </tr>\n",
       "    <tr>\n",
       "      <th>17</th>\n",
       "      <td>0.109780</td>\n",
       "      <td>0.106760</td>\n",
       "      <td>0.003020</td>\n",
       "      <td>68428.000536</td>\n",
       "      <td>66624.853062</td>\n",
       "    </tr>\n",
       "    <tr>\n",
       "      <th>18</th>\n",
       "      <td>0.184210</td>\n",
       "      <td>0.155309</td>\n",
       "      <td>0.028901</td>\n",
       "      <td>112871.999938</td>\n",
       "      <td>95614.548386</td>\n",
       "    </tr>\n",
       "    <tr>\n",
       "      <th>19</th>\n",
       "      <td>0.098989</td>\n",
       "      <td>0.154008</td>\n",
       "      <td>-0.055018</td>\n",
       "      <td>61984.998253</td>\n",
       "      <td>94837.597809</td>\n",
       "    </tr>\n",
       "    <tr>\n",
       "      <th>20</th>\n",
       "      <td>0.330122</td>\n",
       "      <td>0.130340</td>\n",
       "      <td>0.199783</td>\n",
       "      <td>199999.996900</td>\n",
       "      <td>80705.014620</td>\n",
       "    </tr>\n",
       "    <tr>\n",
       "      <th>21</th>\n",
       "      <td>0.095665</td>\n",
       "      <td>0.187669</td>\n",
       "      <td>-0.092003</td>\n",
       "      <td>60000.001154</td>\n",
       "      <td>114937.366786</td>\n",
       "    </tr>\n",
       "    <tr>\n",
       "      <th>22</th>\n",
       "      <td>0.296629</td>\n",
       "      <td>0.130340</td>\n",
       "      <td>0.166289</td>\n",
       "      <td>179999.999415</td>\n",
       "      <td>80705.014620</td>\n",
       "    </tr>\n",
       "    <tr>\n",
       "      <th>23</th>\n",
       "      <td>0.447351</td>\n",
       "      <td>0.213579</td>\n",
       "      <td>0.233772</td>\n",
       "      <td>270000.005896</td>\n",
       "      <td>130409.128429</td>\n",
       "    </tr>\n",
       "    <tr>\n",
       "      <th>24</th>\n",
       "      <td>0.051954</td>\n",
       "      <td>0.182559</td>\n",
       "      <td>-0.130605</td>\n",
       "      <td>33899.001026</td>\n",
       "      <td>111886.181443</td>\n",
       "    </tr>\n",
       "  </tbody>\n",
       "</table>\n",
       "</div>"
      ],
      "text/plain": [
       "      y_true    y_pred      Diff  Expected Salary  Predicted Salary\n",
       "0   0.144905  0.155309 -0.010404     89401.995735      95614.548386\n",
       "1   0.204520  0.187669  0.016852    124999.997431     114937.366786\n",
       "2   0.310026  0.106760  0.203266    187999.994850      66624.853062\n",
       "3   0.142491  0.104876  0.037615     87960.999287      65500.268288\n",
       "4   0.162653  0.261821 -0.099168    100000.000574     159215.781817\n",
       "5   0.094997  0.190722 -0.095725     59600.999720     116760.596687\n",
       "6   0.001882  0.259902 -0.258020      4000.000019     158069.935651\n",
       "7   0.196147  0.152455  0.043691    119999.998060      93910.816489\n",
       "8   0.021922  0.146482 -0.124560     15965.999805      90343.672041\n",
       "9   0.271508  0.106760  0.164748    165000.001300      66624.853062\n",
       "10  0.144905  0.129216  0.015689     89401.995735      80033.850476\n",
       "11  0.179400  0.181078 -0.001678    109999.999317     111002.118657\n",
       "12  0.208779  0.127876  0.080903    127543.000382      79233.712126\n",
       "13  0.130834  0.220831 -0.089997     80999.995845     134739.538573\n",
       "14  0.241364  0.155309  0.086055    146999.998225      95614.548386\n",
       "15  0.087292  0.106760 -0.019468     55000.001783      66624.853062\n",
       "16  0.112412  0.189190 -0.076778     69999.999897     115846.174467\n",
       "17  0.109780  0.106760  0.003020     68428.000536      66624.853062\n",
       "18  0.184210  0.155309  0.028901    112871.999938      95614.548386\n",
       "19  0.098989  0.154008 -0.055018     61984.998253      94837.597809\n",
       "20  0.330122  0.130340  0.199783    199999.996900      80705.014620\n",
       "21  0.095665  0.187669 -0.092003     60000.001154     114937.366786\n",
       "22  0.296629  0.130340  0.166289    179999.999415      80705.014620\n",
       "23  0.447351  0.213579  0.233772    270000.005896     130409.128429\n",
       "24  0.051954  0.182559 -0.130605     33899.001026     111886.181443"
      ]
     },
     "execution_count": 12,
     "metadata": {},
     "output_type": "execute_result"
    }
   ],
   "source": [
    "pd.DataFrame({\n",
    "    'y_true': y.numpy().flatten(),\n",
    "    'y_pred': y_pred.numpy().flatten(),\n",
    "    'Diff'  : y.numpy().flatten() - y_pred.numpy().flatten(),\n",
    "    'Expected Salary': y.numpy().flatten() * (max_sal - min_sal) + min_sal,\n",
    "    'Predicted Salary': y_pred.numpy().flatten() * (max_sal - min_sal) + min_sal\n",
    "})"
   ]
  },
  {
   "cell_type": "markdown",
   "id": "7c6dfe79-b01c-4f68-8e5c-743d36fb7197",
   "metadata": {},
   "source": [
    "----------------------------------"
   ]
  }
 ],
 "metadata": {
  "kernelspec": {
   "display_name": "Python 3 (ipykernel)",
   "language": "python",
   "name": "python3"
  },
  "language_info": {
   "codemirror_mode": {
    "name": "ipython",
    "version": 3
   },
   "file_extension": ".py",
   "mimetype": "text/x-python",
   "name": "python",
   "nbconvert_exporter": "python",
   "pygments_lexer": "ipython3",
   "version": "3.8.19"
  }
 },
 "nbformat": 4,
 "nbformat_minor": 5
}
