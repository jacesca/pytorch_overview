{
 "cells": [
  {
   "cell_type": "markdown",
   "id": "5b7c689d-e12e-4002-9be9-94bb7316e9c6",
   "metadata": {},
   "source": [
    "# 1. Introduction to PyTorch, a Deep Learning Library\n",
    "\n",
    "Self-driving cars, smartphones, search engines... Deep learning is now everywhere. Before you begin building complex models, you will become familiar with PyTorch, a deep learning framework. You will learn how to manipulate tensors, create PyTorch data structures, and build your first neural network in PyTorch.\n",
    "\n",
    "### Preparing the environment"
   ]
  },
  {
   "cell_type": "code",
   "execution_count": 1,
   "id": "c8f43d7d-5a43-49e6-ba00-61dfb67285cd",
   "metadata": {},
   "outputs": [],
   "source": [
    "import expectexception"
   ]
  },
  {
   "cell_type": "markdown",
   "id": "c8430055-e2f1-42d3-99c2-7f854c940b0e",
   "metadata": {},
   "source": [
    "## 1.1 Introduction to deep learning with PyTorch\n",
    "\n",
    "### Importing PyTorch and related packages"
   ]
  },
  {
   "cell_type": "code",
   "execution_count": 2,
   "id": "dd450ea9-298e-43c5-9665-96d5c5dcb368",
   "metadata": {},
   "outputs": [],
   "source": [
    "import torch\n",
    "import torch.nn as nn"
   ]
  },
  {
   "cell_type": "code",
   "execution_count": 3,
   "id": "1f5252ca-64db-4b07-9485-7d52f71b74f5",
   "metadata": {},
   "outputs": [],
   "source": [
    "import numpy as np"
   ]
  },
  {
   "cell_type": "markdown",
   "id": "32e7180d-dc47-4ac9-b8fb-ac630746d0d4",
   "metadata": {},
   "source": [
    "### Tensors: the building blocks of networks in PyTorch"
   ]
  },
  {
   "cell_type": "code",
   "execution_count": 4,
   "id": "de6d29e9-cb2a-44a8-9f20-25b759272a35",
   "metadata": {},
   "outputs": [
    {
     "data": {
      "text/plain": [
       "tensor([[1, 2, 3],\n",
       "        [4, 5, 6]])"
      ]
     },
     "execution_count": 4,
     "metadata": {},
     "output_type": "execute_result"
    }
   ],
   "source": [
    "# Load from list\n",
    "lst = [[1, 2, 3], [4, 5, 6]]\n",
    "tensor = torch.tensor(lst)\n",
    "tensor"
   ]
  },
  {
   "cell_type": "code",
   "execution_count": 5,
   "id": "3f74e120-5ac2-4dd1-b65d-85540cb8704a",
   "metadata": {},
   "outputs": [
    {
     "data": {
      "text/plain": [
       "tensor([[1, 2, 3],\n",
       "        [4, 5, 6]], dtype=torch.int32)"
      ]
     },
     "execution_count": 5,
     "metadata": {},
     "output_type": "execute_result"
    }
   ],
   "source": [
    "# Load from NumPy array\n",
    "lst = [[1, 2, 3], [4, 5, 6]]\n",
    "np_array = np.array(lst)\n",
    "np_tensor = torch.from_numpy(np_array)\n",
    "np_tensor"
   ]
  },
  {
   "cell_type": "markdown",
   "id": "7901f5c1-80f3-4cde-a1cf-a86211d53699",
   "metadata": {},
   "source": [
    "### Tensor attributes"
   ]
  },
  {
   "cell_type": "code",
   "execution_count": 6,
   "id": "6082f6a4-e778-4fe3-9818-5dc28a5aa3cd",
   "metadata": {},
   "outputs": [
    {
     "data": {
      "text/plain": [
       "torch.Size([2, 3])"
      ]
     },
     "execution_count": 6,
     "metadata": {},
     "output_type": "execute_result"
    }
   ],
   "source": [
    "# Tensor shape\n",
    "lst = [[1, 2, 3], [4, 5, 6]]\n",
    "tensor = torch.tensor(lst)\n",
    "tensor.shape"
   ]
  },
  {
   "cell_type": "code",
   "execution_count": 7,
   "id": "0aefbfff-6914-4070-8bfe-63694c3a058e",
   "metadata": {},
   "outputs": [
    {
     "data": {
      "text/plain": [
       "torch.int64"
      ]
     },
     "execution_count": 7,
     "metadata": {},
     "output_type": "execute_result"
    }
   ],
   "source": [
    "# Tensor data type\n",
    "tensor.dtype"
   ]
  },
  {
   "cell_type": "code",
   "execution_count": 8,
   "id": "564a9516-07de-442b-998a-590609abb79c",
   "metadata": {},
   "outputs": [
    {
     "data": {
      "text/plain": [
       "device(type='cpu')"
      ]
     },
     "execution_count": 8,
     "metadata": {},
     "output_type": "execute_result"
    }
   ],
   "source": [
    "# Tensor device\n",
    "tensor.device"
   ]
  },
  {
   "cell_type": "markdown",
   "id": "10e17436-567c-4bb2-8476-0d3f39009bbc",
   "metadata": {},
   "source": [
    "### Getting started with tensor operations"
   ]
  },
  {
   "cell_type": "code",
   "execution_count": 9,
   "id": "3e2e96e2-4287-4d10-b2fe-f26625c76bb5",
   "metadata": {},
   "outputs": [
    {
     "data": {
      "text/plain": [
       "tensor([[3, 3],\n",
       "        [5, 5]])"
      ]
     },
     "execution_count": 9,
     "metadata": {},
     "output_type": "execute_result"
    }
   ],
   "source": [
    "# Compatible shapes\n",
    "a = torch.tensor([[1, 1], [2, 2]])\n",
    "b = torch.tensor([[2, 2], [3, 3]])\n",
    "\n",
    "# Addition / subtraction\n",
    "a + b"
   ]
  },
  {
   "cell_type": "code",
   "execution_count": 10,
   "id": "47ac6fbe-4e48-4ba7-86ba-a53e0c485b3e",
   "metadata": {},
   "outputs": [
    {
     "name": "stdout",
     "output_type": "stream",
     "text": [
      "\u001b[1;31m---------------------------------------------------------------------------\u001b[0m\n",
      "\u001b[1;31mRuntimeError\u001b[0m                              Traceback (most recent call last)\n",
      "Cell \u001b[1;32mIn[10], line 6\u001b[0m\n",
      "\u001b[0;32m      3\u001b[0m c \u001b[38;5;241m=\u001b[39m torch\u001b[38;5;241m.\u001b[39mtensor([[\u001b[38;5;241m2\u001b[39m, \u001b[38;5;241m2\u001b[39m, \u001b[38;5;241m4\u001b[39m], [\u001b[38;5;241m3\u001b[39m, \u001b[38;5;241m3\u001b[39m, \u001b[38;5;241m5\u001b[39m]])\n",
      "\u001b[0;32m      5\u001b[0m \u001b[38;5;66;03m# Addition / subtraction\u001b[39;00m\n",
      "\u001b[1;32m----> 6\u001b[0m \u001b[43ma\u001b[49m\u001b[43m \u001b[49m\u001b[38;5;241;43m+\u001b[39;49m\u001b[43m \u001b[49m\u001b[43mc\u001b[49m\n",
      "\n",
      "\u001b[1;31mRuntimeError\u001b[0m: The size of tensor a (2) must match the size of tensor b (3) at non-singleton dimension 1\n"
     ]
    }
   ],
   "source": [
    "%%expect_exception RuntimeError\n",
    "\n",
    "# Incompatible shapes\n",
    "a = torch.tensor([[1, 1], [2, 2]])\n",
    "c = torch.tensor([[2, 2, 4], [3, 3, 5]])\n",
    "\n",
    "# Addition / subtraction\n",
    "a + c"
   ]
  },
  {
   "cell_type": "code",
   "execution_count": 11,
   "id": "56154b4e-94b2-4cc4-9a64-79727080d241",
   "metadata": {},
   "outputs": [
    {
     "data": {
      "text/plain": [
       "tensor([[2, 2],\n",
       "        [6, 6]])"
      ]
     },
     "execution_count": 11,
     "metadata": {},
     "output_type": "execute_result"
    }
   ],
   "source": [
    "# Element-wise multiplication\n",
    "a = torch.tensor([[1, 1], [2, 2]])\n",
    "b = torch.tensor([[2, 2], [3, 3]])\n",
    "a * b"
   ]
  },
  {
   "cell_type": "code",
   "execution_count": 12,
   "id": "82aa078f-8d4b-442d-896a-dd46454b3619",
   "metadata": {},
   "outputs": [
    {
     "name": "stdout",
     "output_type": "stream",
     "text": [
      "tensor([[4, 1],\n",
      "        [5, 3],\n",
      "        [2, 1]])\n"
     ]
    },
    {
     "data": {
      "text/plain": [
       "tensor([[4, 5, 2],\n",
       "        [1, 3, 1]])"
      ]
     },
     "execution_count": 12,
     "metadata": {},
     "output_type": "execute_result"
    }
   ],
   "source": [
    "# Transposition\n",
    "a = torch.tensor([[4, 1], [5, 3], [2, 1]])\n",
    "print(a)\n",
    "\n",
    "torch.transpose(a, 0, 1)"
   ]
  },
  {
   "cell_type": "code",
   "execution_count": 13,
   "id": "2e63d032-c3ef-4448-9a41-d9c28e608014",
   "metadata": {},
   "outputs": [
    {
     "data": {
      "text/plain": [
       "tensor([[10, 13],\n",
       "        [22, 29]])"
      ]
     },
     "execution_count": 13,
     "metadata": {},
     "output_type": "execute_result"
    }
   ],
   "source": [
    "# Matrix multiplication\n",
    "a = torch.tensor([[1, 2],\n",
    "                  [3, 4]])\n",
    "b = torch.tensor([[2, 3],\n",
    "                  [4, 5]])\n",
    "\n",
    "# [[1*2 + 2*8, 1*3 + 2*5],\n",
    "#  [3*2 + 4*4, 3*3 + 4*5]]\n",
    "torch.matmul(a, b)"
   ]
  },
  {
   "cell_type": "code",
   "execution_count": 14,
   "id": "81680393-6138-4406-97ed-528dd0793ddb",
   "metadata": {},
   "outputs": [
    {
     "data": {
      "text/plain": [
       "tensor([[ 2,  6],\n",
       "        [12, 20]])"
      ]
     },
     "execution_count": 14,
     "metadata": {},
     "output_type": "execute_result"
    }
   ],
   "source": [
    "# Difference with element-wise multiplication\n",
    "# [[1*2, 2*3],\n",
    "#  [3*4, 4*5]]\n",
    "a * b"
   ]
  },
  {
   "cell_type": "code",
   "execution_count": 15,
   "id": "257aca40-fc25-43ad-8e91-fbb6a59e84b5",
   "metadata": {},
   "outputs": [
    {
     "data": {
      "text/plain": [
       "tensor([[1, 2],\n",
       "        [3, 4],\n",
       "        [2, 3],\n",
       "        [4, 5]])"
      ]
     },
     "execution_count": 15,
     "metadata": {},
     "output_type": "execute_result"
    }
   ],
   "source": [
    "# Concatenation\n",
    "a = torch.tensor([[1, 2],\n",
    "                  [3, 4]])\n",
    "b = torch.tensor([[2, 3],\n",
    "                  [4, 5]])\n",
    "\n",
    "torch.cat([a, b], dim=0)"
   ]
  },
  {
   "cell_type": "code",
   "execution_count": 16,
   "id": "d10c34f0-c358-46c4-a06d-79cd5c7058a2",
   "metadata": {},
   "outputs": [
    {
     "data": {
      "text/plain": [
       "tensor([[1, 2, 2, 3],\n",
       "        [3, 4, 4, 5]])"
      ]
     },
     "execution_count": 16,
     "metadata": {},
     "output_type": "execute_result"
    }
   ],
   "source": [
    "torch.cat([a, b], dim=1)"
   ]
  },
  {
   "cell_type": "markdown",
   "id": "813883ee-eb38-4143-9972-f4d03bd84406",
   "metadata": {},
   "source": [
    "### Ex.1 - Creating tensors and accessing attributes\n",
    "\n",
    "Tensors are the primary data structure in PyTorch and will be the building blocks for our deep learning models. They share many similarities with NumPy arrays but have some unique attributes too.\n",
    "\n",
    "In this exercise, you'll practice creating a tensor from a Python list and displaying some of its attributes.\n",
    "\n",
    "**Instructions**\n",
    "1. Begin by importing PyTorch. (Already done!)\n",
    "2. Create a tensor from the Python list `list_a`.\n",
    "3. Display the tensor device.\n",
    "4. Display the tensor data type."
   ]
  },
  {
   "cell_type": "code",
   "execution_count": 17,
   "id": "8bb16ecf-f6e7-49eb-a113-8b5c619344ae",
   "metadata": {},
   "outputs": [
    {
     "name": "stdout",
     "output_type": "stream",
     "text": [
      "tensor([1, 2, 3, 4])\n",
      "cpu\n",
      "torch.int64\n"
     ]
    }
   ],
   "source": [
    "list_a = [1, 2, 3, 4]\n",
    "\n",
    "# Create a tensor from list_a\n",
    "tensor_a = torch.tensor(list_a)\n",
    "print(tensor_a)\n",
    "\n",
    "# Display the tensor device\n",
    "print(tensor_a.device)\n",
    "\n",
    "# Display the tensor data type\n",
    "print(tensor_a.dtype)"
   ]
  },
  {
   "cell_type": "markdown",
   "id": "d7fa8c46-b398-44f4-b0af-80ef8853db4a",
   "metadata": {},
   "source": [
    "### Ex.2 - Creating tensors from NumPy arrays\n",
    "Tensors are the fundamental data structure of PyTorch. You can create complex deep learning algorithms by learning how to manipulate them.\n",
    "\n",
    "**Instructions**\n",
    "\n",
    "1. Create two tensors, `tensor_a` and `tensor_b`, from the `NumPy` arrays `array_a` and `array_b`, respectively.\n",
    "2. Subtract `tensor_b` from `tensor_a` and assign it to `tensor_c`.\n",
    "3. Perform an element-wise multiplication of `tensor_a` and `tensor_b`, assign it to `tensor_d`.\n",
    "4. Add the resulting tensors, `tensor_c` and `tensor_d`, from the two previous steps together and assign it to `tensor_e`."
   ]
  },
  {
   "cell_type": "code",
   "execution_count": 18,
   "id": "ec87db28-b96b-4d47-b6db-1bf60e6517b4",
   "metadata": {},
   "outputs": [],
   "source": [
    "array_a = np. array([[1, 1, 1],\n",
    "                     [2, 3, 4],\n",
    "                     [4, 5, 6]])\n",
    "\n",
    "array_b = np.array([[7, 5, 4],\n",
    "                    [2, 2, 8],\n",
    "                    [6, 3, 8]])"
   ]
  },
  {
   "cell_type": "code",
   "execution_count": 19,
   "id": "04cf849a-f202-4998-b3ca-5141eed8ac8b",
   "metadata": {},
   "outputs": [
    {
     "name": "stdout",
     "output_type": "stream",
     "text": [
      "tensor([[ 1,  1,  1],\n",
      "        [ 4,  7, 28],\n",
      "        [22, 17, 46]], dtype=torch.int32)\n"
     ]
    }
   ],
   "source": [
    "# Create two tensors from the arrays\n",
    "tensor_a = torch.tensor(array_a)\n",
    "tensor_b = torch.tensor(array_b)\n",
    "\n",
    "# Subtract tensor_b from tensor_a \n",
    "tensor_c = tensor_a - tensor_b\n",
    "\n",
    "# Multiply each element of tensor_a with each element of tensor_b\n",
    "tensor_d = tensor_a * tensor_b\n",
    "\n",
    "# Add tensor_c to tensor_d\n",
    "tensor_e = tensor_c + tensor_d\n",
    "print(tensor_e)"
   ]
  },
  {
   "cell_type": "markdown",
   "id": "0cadca84-a41a-452c-9b58-75748948386a",
   "metadata": {},
   "source": [
    "## 1.2 Creating our first neural network\n",
    "\n",
    "### Our first neural network"
   ]
  },
  {
   "cell_type": "code",
   "execution_count": 20,
   "id": "53546b9d-72c0-47db-ada8-298fe2fcf89a",
   "metadata": {},
   "outputs": [
    {
     "data": {
      "text/plain": [
       "tensor([[ 0.3471,  0.4547, -0.2356]])"
      ]
     },
     "execution_count": 20,
     "metadata": {},
     "output_type": "execute_result"
    }
   ],
   "source": [
    "## Create input_tensor with three features\n",
    "input_tensor = torch.tensor([[0.3471, 0.4547, -0.2356]])\n",
    "input_tensor"
   ]
  },
  {
   "cell_type": "code",
   "execution_count": 21,
   "id": "0cecf936-adf7-4089-b468-ad4498643e21",
   "metadata": {},
   "outputs": [
    {
     "data": {
      "text/plain": [
       "Linear(in_features=3, out_features=2, bias=True)"
      ]
     },
     "execution_count": 21,
     "metadata": {},
     "output_type": "execute_result"
    }
   ],
   "source": [
    "# A linear layer takes an input, applies a linearfunction, and returns output\n",
    "# Define our first linear layer\n",
    "linear_layer = nn.Linear(in_features=3, out_features=2)\n",
    "linear_layer"
   ]
  },
  {
   "cell_type": "code",
   "execution_count": 22,
   "id": "89142152-9ae7-440d-a1d4-61f03afb63d1",
   "metadata": {},
   "outputs": [
    {
     "name": "stdout",
     "output_type": "stream",
     "text": [
      "tensor([[-0.3043, -0.3788]], grad_fn=<AddmmBackward0>)\n"
     ]
    }
   ],
   "source": [
    "# Pass input through linear layer\n",
    "output = linear_layer(input_tensor)\n",
    "print(output)"
   ]
  },
  {
   "cell_type": "markdown",
   "id": "a8445931-dcef-430f-afcb-08792acde5e7",
   "metadata": {},
   "source": [
    "### Getting to know the linear layer operation"
   ]
  },
  {
   "cell_type": "code",
   "execution_count": 23,
   "id": "ba6c3e9c-45ad-4ecf-9947-7ad95ff2fb36",
   "metadata": {},
   "outputs": [
    {
     "data": {
      "text/plain": [
       "Parameter containing:\n",
       "tensor([[-0.2864,  0.0919,  0.0344],\n",
       "        [-0.3922, -0.4002, -0.4589]], requires_grad=True)"
      ]
     },
     "execution_count": 23,
     "metadata": {},
     "output_type": "execute_result"
    }
   ],
   "source": [
    "# Each linear layer has a .weight\n",
    "linear_layer.weight"
   ]
  },
  {
   "cell_type": "code",
   "execution_count": 24,
   "id": "617b0975-ef3d-47cb-a8e4-3d7d72978a97",
   "metadata": {},
   "outputs": [
    {
     "data": {
      "text/plain": [
       "Parameter containing:\n",
       "tensor([-0.2386, -0.1688], requires_grad=True)"
      ]
     },
     "execution_count": 24,
     "metadata": {},
     "output_type": "execute_result"
    }
   ],
   "source": [
    "# and .bias property\n",
    "linear_layer.bias"
   ]
  },
  {
   "cell_type": "markdown",
   "id": "1e07b936-dbf4-4b3f-beb9-28ffe32687b1",
   "metadata": {},
   "source": [
    "### Stacking layers with nn.Sequential()"
   ]
  },
  {
   "cell_type": "code",
   "execution_count": 25,
   "id": "8f3a756a-9dae-453d-aa5b-50565aa0f99e",
   "metadata": {},
   "outputs": [
    {
     "data": {
      "text/plain": [
       "Sequential(\n",
       "  (0): Linear(in_features=10, out_features=18, bias=True)\n",
       "  (1): Linear(in_features=18, out_features=20, bias=True)\n",
       "  (2): Linear(in_features=20, out_features=5, bias=True)\n",
       ")"
      ]
     },
     "execution_count": 25,
     "metadata": {},
     "output_type": "execute_result"
    }
   ],
   "source": [
    "model = nn.Sequential(\n",
    "    nn.Linear(10, 18),\n",
    "    nn.Linear(18, 20),\n",
    "    nn.Linear(20, 5)\n",
    ")\n",
    "model"
   ]
  },
  {
   "cell_type": "markdown",
   "id": "40f16dd8-ef51-4a1d-a3fe-017454b1f4cb",
   "metadata": {},
   "source": [
    "### Stacking layers with nn.Sequential()"
   ]
  },
  {
   "cell_type": "code",
   "execution_count": 26,
   "id": "a99c6b0c-ba00-41c6-ba46-64c389fcd879",
   "metadata": {},
   "outputs": [
    {
     "data": {
      "text/plain": [
       "(torch.Size([1, 10]), torch.Size([1, 10]))"
      ]
     },
     "execution_count": 26,
     "metadata": {},
     "output_type": "execute_result"
    }
   ],
   "source": [
    "input_tensor = torch.tensor([[-0.0014, 0.4038, 1.0305, 0.7521, 0.7489, -0.3968, 0.0113, -1.3844, 0.8705, -0.9743]])\n",
    "input_tensor.size(), input_tensor.shape"
   ]
  },
  {
   "cell_type": "code",
   "execution_count": 27,
   "id": "0cdaf4e8-e004-4522-80a6-08972616008a",
   "metadata": {},
   "outputs": [
    {
     "name": "stdout",
     "output_type": "stream",
     "text": [
      "tensor([[ 0.1823, -0.3461,  0.5391,  0.2288, -0.3502]],\n",
      "       grad_fn=<AddmmBackward0>)\n"
     ]
    }
   ],
   "source": [
    "output_tensor = model(input_tensor)\n",
    "print(output_tensor)"
   ]
  },
  {
   "cell_type": "markdown",
   "id": "837ee009-5fff-419f-9716-b990e0ec3a50",
   "metadata": {},
   "source": [
    "### Ex.3 - Your first neural network\n",
    "\n",
    "In this exercise, you will implement a small neural network containing two linear layers. The first layer takes an eight-dimensional input, and the last layer outputs a one-dimensional tensor.\n",
    "\n",
    "The torch package and the torch.nn package have already been imported for you.\n",
    "\n",
    "**Instructions**\n",
    "\n",
    "1. Create a neural network of two linear layers that takes a tensor of dimensions $ 1 \\times 8 $ as input, representing 8 features, and outputs a tensor of dimensions $ 1 \\times 1 $.\n",
    "2. Use any output dimension for the first layer you want."
   ]
  },
  {
   "cell_type": "code",
   "execution_count": 28,
   "id": "0f9bc35a-05ed-4209-8b4b-3f91ee2323ca",
   "metadata": {},
   "outputs": [
    {
     "name": "stdout",
     "output_type": "stream",
     "text": [
      "tensor([[-1.9584]], grad_fn=<AddmmBackward0>)\n"
     ]
    }
   ],
   "source": [
    "input_tensor = torch.Tensor([[2, 3, 6, 7, 9, 3, 2, 1]])\n",
    "\n",
    "# Implement a small neural network with exactly two linear layers\n",
    "model = nn.Sequential(\n",
    "    nn.Linear(8, 12),\n",
    "    nn.Linear(12, 1)\n",
    ")\n",
    "\n",
    "output = model(input_tensor)\n",
    "print(output)\n",
    "\n",
    "# Good job on creating your first neural network! In practice, you'll find that modern neural\n",
    "# networks can contain hundreds of layers and millions of parameters. Recall that the model\n",
    "# output is not meaningful until the model is trained, i.e. until the weights and biases of\n",
    "# each layer can meaningfully be used to produce output."
   ]
  },
  {
   "cell_type": "markdown",
   "id": "ddb9a1be-05a9-4b54-80ed-8ec9d22c423a",
   "metadata": {},
   "source": [
    "## 1.3 Discovering activation functions\n",
    "\n",
    "### Meet the sigmoid function"
   ]
  },
  {
   "cell_type": "code",
   "execution_count": 29,
   "id": "56435cf3-6eee-4669-8c0a-a245be256d8a",
   "metadata": {},
   "outputs": [
    {
     "data": {
      "text/plain": [
       "tensor([[0.9975]])"
      ]
     },
     "execution_count": 29,
     "metadata": {},
     "output_type": "execute_result"
    }
   ],
   "source": [
    "input_tensor = torch.tensor([[6.0]])\n",
    "sigmoid = nn.Sigmoid()\n",
    "output = sigmoid(input_tensor)\n",
    "output"
   ]
  },
  {
   "cell_type": "markdown",
   "id": "4f330e2e-9999-4b16-83d3-5cc037118de0",
   "metadata": {},
   "source": [
    "### Activation function as the last layer"
   ]
  },
  {
   "cell_type": "code",
   "execution_count": 30,
   "id": "edf6816c-584c-4ffd-8e78-f636c66f8acf",
   "metadata": {},
   "outputs": [
    {
     "data": {
      "text/plain": [
       "Sequential(\n",
       "  (0): Linear(in_features=6, out_features=4, bias=True)\n",
       "  (1): Linear(in_features=4, out_features=1, bias=True)\n",
       "  (2): Sigmoid()\n",
       ")"
      ]
     },
     "execution_count": 30,
     "metadata": {},
     "output_type": "execute_result"
    }
   ],
   "source": [
    "# Sigmoid as last step in network of linear layers is equivalent to traditional logistic\n",
    "# regression.\n",
    "model = nn.Sequential(\n",
    "    nn.Linear(6, 4), # First linear layer\n",
    "    nn.Linear(4, 1), # Second linear layer\n",
    "    nn.Sigmoid() # Sigmoid activation function\n",
    ")\n",
    "model"
   ]
  },
  {
   "cell_type": "markdown",
   "id": "239968cd-4234-49f9-8382-ccf693e7a95f",
   "metadata": {},
   "source": [
    "### Getting acquainted with softmax\n",
    "\n",
    "- Outputs a probability distribution:\n",
    "    - each element is a probability (it's bounded between 0 and 1)\n",
    "    - the sum of the output vector is equal to 1\n",
    "- `dim = -1` indicates softmax is applied to the input tensor's last dimension\n",
    "- The softmax function outputs a tensor of the same dimension as its input."
   ]
  },
  {
   "cell_type": "code",
   "execution_count": 31,
   "id": "dbde8f5b-b950-4ba4-b8fd-dfbb59a6f3f6",
   "metadata": {},
   "outputs": [
    {
     "name": "stdout",
     "output_type": "stream",
     "text": [
      "tensor([[0.1392, 0.8420, 0.0188]])\n"
     ]
    }
   ],
   "source": [
    "# Create an input tensor\n",
    "input_tensor = torch.tensor([[4.3, 6.1, 2.3]])\n",
    "\n",
    "# Apply softmax along the last dimension\n",
    "probabilities = nn.Softmax(dim=-1)\n",
    "output_tensor = probabilities(input_tensor)\n",
    "print(output_tensor)"
   ]
  },
  {
   "cell_type": "markdown",
   "id": "8bf77a51-b90a-4214-a0d8-bb4b006a07b0",
   "metadata": {},
   "source": [
    "### Ex.4 - The sigmoid and softmax functions\n",
    "\n",
    "The sigmoid and softmax functions are two of the most popular activation functions in deep learning. They are both usually used as the last step of a neural network. Sigmoid functions are used for binary classification problems, whereas softmax functions are often used for multi-class classification problems. This exercise will familiarize you with creating and using both functions.\n",
    "\n",
    "Let's say that you have a neural network that returned the values contained in the score tensor as a pre-activation output. You will apply activation functions to this output.\n",
    "\n",
    "`torch.nn` is already imported as nn.\n",
    "\n",
    "**Instructions**\n",
    "\n",
    "1. Create a sigmoid function and apply it on input_tensor to generate a probability.\n",
    "2. Create a softmax function and apply it on input_tensor to generate a probability."
   ]
  },
  {
   "cell_type": "code",
   "execution_count": 32,
   "id": "72cae6ae-3e03-478e-ad8f-9008324d62de",
   "metadata": {},
   "outputs": [
    {
     "name": "stdout",
     "output_type": "stream",
     "text": [
      "tensor([[0.6900]])\n"
     ]
    }
   ],
   "source": [
    "input_tensor = torch.tensor([[0.8]])\n",
    "\n",
    "# Create a sigmoid function and apply it on input_tensor\n",
    "sigmoid = nn.Sigmoid()\n",
    "probability = sigmoid(input_tensor)\n",
    "print(probability)"
   ]
  },
  {
   "cell_type": "code",
   "execution_count": 33,
   "id": "11a601fb-917d-4771-b531-98b3e0598750",
   "metadata": {},
   "outputs": [
    {
     "name": "stdout",
     "output_type": "stream",
     "text": [
      "tensor([[1.2828e-01, 1.1698e-04, 5.7492e-01, 3.4961e-02, 1.5669e-01, 1.0503e-01]])\n"
     ]
    }
   ],
   "source": [
    "input_tensor = torch.tensor([[1.0, -6.0, 2.5, -0.3, 1.2, 0.8]])\n",
    "\n",
    "# Create a softmax function and apply it on input_tensor\n",
    "softmax = nn.Softmax(dim=-1)\n",
    "probabilities = softmax(input_tensor)\n",
    "print(probabilities)"
   ]
  },
  {
   "cell_type": "markdown",
   "id": "3a38631e-e7b4-4b49-9299-9705b8d91a81",
   "metadata": {},
   "source": [
    "-----------------"
   ]
  }
 ],
 "metadata": {
  "kernelspec": {
   "display_name": "Python 3 (ipykernel)",
   "language": "python",
   "name": "python3"
  },
  "language_info": {
   "codemirror_mode": {
    "name": "ipython",
    "version": 3
   },
   "file_extension": ".py",
   "mimetype": "text/x-python",
   "name": "python",
   "nbconvert_exporter": "python",
   "pygments_lexer": "ipython3",
   "version": "3.8.19"
  }
 },
 "nbformat": 4,
 "nbformat_minor": 5
}
