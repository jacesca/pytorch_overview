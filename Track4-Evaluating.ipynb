{
 "cells": [
  {
   "cell_type": "markdown",
   "id": "6062b538-2d49-4c41-b948-7be70041f320",
   "metadata": {},
   "source": [
    "# 4. Evaluating and Improving Models\n",
    "\n",
    "Training a deep learning model is an art, and to make sure our model is trained correctly, we need to keep track of certain metrics during training, such as the loss or the accuracy. We will learn how to calculate such metrics and how to reduce overfitting using an image dataset as an example.\n",
    "\n",
    "### Preparing the environment"
   ]
  },
  {
   "cell_type": "code",
   "execution_count": 1,
   "id": "edefddba-7c2e-43f2-86e6-cac6ea655aac",
   "metadata": {},
   "outputs": [],
   "source": [
    "import pandas as pd\n",
    "import numpy as np\n",
    "import matplotlib.pyplot as plt\n",
    "\n",
    "import torch\n",
    "import torch.nn as nn \n",
    "import torch.nn.functional as F\n",
    "import torch.optim as optim\n",
    "import torchmetrics\n",
    "\n",
    "from environment import prepare_environment\n",
    "\n",
    "from mpl_toolkits.axes_grid1 import ImageGrid\n",
    "from pprint import pprint\n",
    "\n",
    "from torch.utils.data import TensorDataset, DataLoader\n",
    "from torch.nn import CrossEntropyLoss\n",
    "from torchvision.transforms import v2"
   ]
  },
  {
   "cell_type": "code",
   "execution_count": 2,
   "id": "6efa3303-0e3e-4cac-963e-3208be230a42",
   "metadata": {},
   "outputs": [],
   "source": [
    "SEED = 42\n",
    "prepare_environment()\n",
    "\n",
    "torch.set_printoptions(precision=10)"
   ]
  },
  {
   "cell_type": "markdown",
   "id": "33de5e2d-e51a-48b9-a726-3e874c9ec195",
   "metadata": {},
   "source": [
    "### Check if your GPU driver and CUDA is enabled and accessible by PyTorch"
   ]
  },
  {
   "cell_type": "code",
   "execution_count": 3,
   "id": "55187fb4-3625-4680-a1df-cf13f097b6d3",
   "metadata": {},
   "outputs": [
    {
     "data": {
      "text/plain": [
       "True"
      ]
     },
     "execution_count": 3,
     "metadata": {},
     "output_type": "execute_result"
    }
   ],
   "source": [
    "torch.cuda.is_available()"
   ]
  },
  {
   "cell_type": "markdown",
   "id": "5b331d50-c7fd-4cd5-a0f7-e6c3374e4019",
   "metadata": {},
   "source": [
    "## 4.1 A deeper dive into loading data\n",
    "\n",
    "### Animals dataset"
   ]
  },
  {
   "cell_type": "code",
   "execution_count": 4,
   "id": "162c75c8-9078-4a75-a258-d571b5833086",
   "metadata": {},
   "outputs": [
    {
     "name": "stdout",
     "output_type": "stream",
     "text": [
      "(101, 18)\n"
     ]
    },
    {
     "data": {
      "text/html": [
       "<div>\n",
       "<style scoped>\n",
       "    .dataframe tbody tr th:only-of-type {\n",
       "        vertical-align: middle;\n",
       "    }\n",
       "\n",
       "    .dataframe tbody tr th {\n",
       "        vertical-align: top;\n",
       "    }\n",
       "\n",
       "    .dataframe thead th {\n",
       "        text-align: right;\n",
       "    }\n",
       "</style>\n",
       "<table border=\"1\" class=\"dataframe\">\n",
       "  <thead>\n",
       "    <tr style=\"text-align: right;\">\n",
       "      <th></th>\n",
       "      <th>animal_name</th>\n",
       "      <th>hair</th>\n",
       "      <th>feathers</th>\n",
       "      <th>eggs</th>\n",
       "      <th>milk</th>\n",
       "      <th>airborne</th>\n",
       "      <th>aquatic</th>\n",
       "      <th>predator</th>\n",
       "      <th>toothed</th>\n",
       "      <th>backbone</th>\n",
       "      <th>breathes</th>\n",
       "      <th>venomous</th>\n",
       "      <th>fins</th>\n",
       "      <th>legs</th>\n",
       "      <th>tail</th>\n",
       "      <th>domestic</th>\n",
       "      <th>catsize</th>\n",
       "      <th>class_type</th>\n",
       "    </tr>\n",
       "  </thead>\n",
       "  <tbody>\n",
       "    <tr>\n",
       "      <th>0</th>\n",
       "      <td>aardvark</td>\n",
       "      <td>1</td>\n",
       "      <td>0</td>\n",
       "      <td>0</td>\n",
       "      <td>1</td>\n",
       "      <td>0</td>\n",
       "      <td>0</td>\n",
       "      <td>1</td>\n",
       "      <td>1</td>\n",
       "      <td>1</td>\n",
       "      <td>1</td>\n",
       "      <td>0</td>\n",
       "      <td>0</td>\n",
       "      <td>4</td>\n",
       "      <td>0</td>\n",
       "      <td>0</td>\n",
       "      <td>1</td>\n",
       "      <td>1</td>\n",
       "    </tr>\n",
       "    <tr>\n",
       "      <th>1</th>\n",
       "      <td>antelope</td>\n",
       "      <td>1</td>\n",
       "      <td>0</td>\n",
       "      <td>0</td>\n",
       "      <td>1</td>\n",
       "      <td>0</td>\n",
       "      <td>0</td>\n",
       "      <td>0</td>\n",
       "      <td>1</td>\n",
       "      <td>1</td>\n",
       "      <td>1</td>\n",
       "      <td>0</td>\n",
       "      <td>0</td>\n",
       "      <td>4</td>\n",
       "      <td>1</td>\n",
       "      <td>0</td>\n",
       "      <td>1</td>\n",
       "      <td>1</td>\n",
       "    </tr>\n",
       "    <tr>\n",
       "      <th>2</th>\n",
       "      <td>bass</td>\n",
       "      <td>0</td>\n",
       "      <td>0</td>\n",
       "      <td>1</td>\n",
       "      <td>0</td>\n",
       "      <td>0</td>\n",
       "      <td>1</td>\n",
       "      <td>1</td>\n",
       "      <td>1</td>\n",
       "      <td>1</td>\n",
       "      <td>0</td>\n",
       "      <td>0</td>\n",
       "      <td>1</td>\n",
       "      <td>0</td>\n",
       "      <td>1</td>\n",
       "      <td>0</td>\n",
       "      <td>0</td>\n",
       "      <td>4</td>\n",
       "    </tr>\n",
       "    <tr>\n",
       "      <th>3</th>\n",
       "      <td>bear</td>\n",
       "      <td>1</td>\n",
       "      <td>0</td>\n",
       "      <td>0</td>\n",
       "      <td>1</td>\n",
       "      <td>0</td>\n",
       "      <td>0</td>\n",
       "      <td>1</td>\n",
       "      <td>1</td>\n",
       "      <td>1</td>\n",
       "      <td>1</td>\n",
       "      <td>0</td>\n",
       "      <td>0</td>\n",
       "      <td>4</td>\n",
       "      <td>0</td>\n",
       "      <td>0</td>\n",
       "      <td>1</td>\n",
       "      <td>1</td>\n",
       "    </tr>\n",
       "    <tr>\n",
       "      <th>4</th>\n",
       "      <td>boar</td>\n",
       "      <td>1</td>\n",
       "      <td>0</td>\n",
       "      <td>0</td>\n",
       "      <td>1</td>\n",
       "      <td>0</td>\n",
       "      <td>0</td>\n",
       "      <td>1</td>\n",
       "      <td>1</td>\n",
       "      <td>1</td>\n",
       "      <td>1</td>\n",
       "      <td>0</td>\n",
       "      <td>0</td>\n",
       "      <td>4</td>\n",
       "      <td>1</td>\n",
       "      <td>0</td>\n",
       "      <td>1</td>\n",
       "      <td>1</td>\n",
       "    </tr>\n",
       "  </tbody>\n",
       "</table>\n",
       "</div>"
      ],
      "text/plain": [
       "  animal_name  hair  feathers  eggs  milk  airborne  aquatic  predator  \\\n",
       "0    aardvark     1         0     0     1         0        0         1   \n",
       "1    antelope     1         0     0     1         0        0         0   \n",
       "2        bass     0         0     1     0         0        1         1   \n",
       "3        bear     1         0     0     1         0        0         1   \n",
       "4        boar     1         0     0     1         0        0         1   \n",
       "\n",
       "   toothed  backbone  breathes  venomous  fins  legs  tail  domestic  catsize  \\\n",
       "0        1         1         1         0     0     4     0         0        1   \n",
       "1        1         1         1         0     0     4     1         0        1   \n",
       "2        1         1         0         0     1     0     1         0        0   \n",
       "3        1         1         1         0     0     4     0         0        1   \n",
       "4        1         1         1         0     0     4     1         0        1   \n",
       "\n",
       "   class_type  \n",
       "0           1  \n",
       "1           1  \n",
       "2           4  \n",
       "3           1  \n",
       "4           1  "
      ]
     },
     "execution_count": 4,
     "metadata": {},
     "output_type": "execute_result"
    }
   ],
   "source": [
    "df_animal = pd.read_csv('data-sources/animals.csv')\n",
    "print(df_animal.shape)\n",
    "df_animal.head()\n",
    "# Type key: mammal (1), bird (2), reptile (3), fish (4), amphibian (5), bug (6), invertebrate (7)"
   ]
  },
  {
   "cell_type": "markdown",
   "id": "5706b854-f7f1-425f-a592-1c6201c7c90f",
   "metadata": {},
   "source": [
    "### Defining features and target"
   ]
  },
  {
   "cell_type": "code",
   "execution_count": 5,
   "id": "10a35e48-7afe-465a-8b76-b89022705f85",
   "metadata": {},
   "outputs": [
    {
     "name": "stdout",
     "output_type": "stream",
     "text": [
      "\n",
      "Features:\n",
      "[[1 0 0 1 1 0 4 0]\n",
      " [1 0 0 1 0 0 4 1]\n",
      " [0 0 1 0 1 1 0 1]]\n",
      "\n",
      "Target:\n",
      "[1 1 4]\n",
      "\n"
     ]
    }
   ],
   "source": [
    "# We are using only hair, feathers, eggs, milk, predator, fins, legs, and tail\n",
    "X = df_animal[['hair', 'feathers', 'eggs', 'milk', 'predator', 'fins', 'legs', 'tail']].values\n",
    "y = df_animal['class_type'].values\n",
    "print(f'''\n",
    "Features:\n",
    "{X[:3]}\n",
    "\n",
    "Target:\n",
    "{y[:3]}\n",
    "''')"
   ]
  },
  {
   "cell_type": "markdown",
   "id": "8315a741-8996-4c70-b3ac-67c4a6a6566b",
   "metadata": {},
   "source": [
    "### Recalling TensorDataset"
   ]
  },
  {
   "cell_type": "code",
   "execution_count": 6,
   "id": "14da9214-4335-4c7b-a34b-0c185f97d607",
   "metadata": {},
   "outputs": [],
   "source": [
    "# Instantiate dataset class\n",
    "dataset = TensorDataset(torch.tensor(X).float(), torch.tensor(y).float())"
   ]
  },
  {
   "cell_type": "code",
   "execution_count": 7,
   "id": "000c285b-5ecf-4832-840d-16abd0da4e2a",
   "metadata": {},
   "outputs": [
    {
     "name": "stdout",
     "output_type": "stream",
     "text": [
      "input sample: tensor([1., 0., 0., 1., 1., 0., 4., 0.])\n",
      "label_sample: tensor(1.)\n"
     ]
    }
   ],
   "source": [
    "# Access an individual sample\n",
    "sample = dataset[0]\n",
    "input_sample, label_sample = sample\n",
    "print('input sample:', input_sample)\n",
    "print('label_sample:', label_sample)"
   ]
  },
  {
   "cell_type": "markdown",
   "id": "44ea46ec-67c5-4f74-9044-bf818409f70f",
   "metadata": {},
   "source": [
    "### Recalling DataLoader"
   ]
  },
  {
   "cell_type": "code",
   "execution_count": 8,
   "id": "9692a163-bb3c-4698-8534-b9073860791c",
   "metadata": {},
   "outputs": [],
   "source": [
    "batch_size = 25\n",
    "shuffle = True\n",
    "\n",
    "# Create a DataLoader\n",
    "dataloader = DataLoader(dataset, batch_size=batch_size, shuffle=shuffle)"
   ]
  },
  {
   "cell_type": "code",
   "execution_count": 9,
   "id": "9a5a7eab-3f41-4871-b0f7-57a56dace256",
   "metadata": {},
   "outputs": [
    {
     "name": "stdout",
     "output_type": "stream",
     "text": [
      "Batch 0\n",
      "Total rows: 25\n",
      "batch inputs first row tensor([[1., 0., 0., 1., 1., 0., 4., 0.]])\n",
      "batch labels first row tensor([1.])\n",
      "Batch 1\n",
      "Total rows: 25\n",
      "batch inputs first row tensor([[1., 0., 0., 1., 1., 0., 4., 0.]])\n",
      "batch labels first row tensor([1.])\n",
      "Batch 2\n",
      "Total rows: 25\n",
      "batch inputs first row tensor([[1., 0., 0., 1., 0., 0., 4., 1.]])\n",
      "batch labels first row tensor([1.])\n",
      "Batch 3\n",
      "Total rows: 25\n",
      "batch inputs first row tensor([[0., 0., 1., 0., 0., 0., 0., 0.]])\n",
      "batch labels first row tensor([7.])\n",
      "Batch 4\n",
      "Total rows: 1\n",
      "batch inputs first row tensor([[0., 0., 1., 0., 1., 1., 0., 1.]])\n",
      "batch labels first row tensor([4.])\n"
     ]
    }
   ],
   "source": [
    "# Iterate over the dataloader\n",
    "for i, (batch_inputs, batch_labels) in enumerate(dataloader):\n",
    "    print('Batch', i)\n",
    "    print('Total rows:', batch_inputs.shape[0])\n",
    "    print('batch inputs first row', batch_inputs[:1])\n",
    "    print('batch labels first row', batch_labels[:1])"
   ]
  },
  {
   "cell_type": "markdown",
   "id": "d68c3759-0065-4134-87b4-929de17e39e7",
   "metadata": {},
   "source": [
    "### Ex.1 - Using the TensorDataset class\n",
    "In practice, loading your data into a PyTorch dataset will be one of the first steps you take in order to create and train a neural network with PyTorch.\n",
    "\n",
    "The `TensorDataset` class is very helpful when your dataset can be loaded directly as a NumPy array. Recall that `TensorDataset()` can take one or more NumPy arrays as input.\n",
    "\n",
    "In this exercise, you'll practice creating a PyTorch dataset using the `TensorDataset` class.\n",
    "\n",
    "`torch` and `numpy` have already been imported for you, along with the `TensorDataset` class.\n",
    "\n",
    "**Instructions**\n",
    "\n",
    "1. Convert the NumPy arrays provided to PyTorch tensors.\n",
    "2. Create a TensorDataset using the torch_features and the torch_target tensors provided (in this order).\n",
    "3. Return the last element of the dataset."
   ]
  },
  {
   "cell_type": "code",
   "execution_count": 10,
   "id": "78bbdcae-3195-4486-a433-a97daad59c18",
   "metadata": {},
   "outputs": [
    {
     "name": "stdout",
     "output_type": "stream",
     "text": [
      "(tensor([0.8872127426, 0.4722149252, 0.1195942459, 0.7132447872, 0.7607850486,\n",
      "        0.5612771976, 0.7709671800, 0.4937955964], dtype=torch.float64), tensor([0.7555511385], dtype=torch.float64))\n"
     ]
    }
   ],
   "source": [
    "np_features = np.array(np.random.rand(12, 8))\n",
    "np_target = np.array(np.random.rand(12, 1))\n",
    "\n",
    "# Convert arrays to PyTorch tensors\n",
    "torch_features = torch.tensor(np_features)\n",
    "torch_target = torch.tensor(np_target)\n",
    "\n",
    "# Create a TensorDataset from two tensors\n",
    "dataset = TensorDataset(torch_features, torch_target)\n",
    "\n",
    "# Return the last element of this dataset\n",
    "print(dataset[-1])"
   ]
  },
  {
   "cell_type": "markdown",
   "id": "3acaaaab-9a40-4752-b484-c72f4e9d95fb",
   "metadata": {},
   "source": [
    "### Ex.2 - From data loading to running a forward pass\n",
    "\n",
    "In this exercise, you'll create a PyTorch DataLoader from a pandas DataFrame and call a model on this dataset. Specifically, you'll run a forward pass on a neural network. You'll continue working with fully connected neural networks, as you have done so far.\n",
    "\n",
    "You'll begin by subsetting a loaded DataFrame called dataframe, converting features and targets NumPy arrays, and converting to PyTorch tensors in order to create a PyTorch dataset.\n",
    "\n",
    "This dataset can be loaded into a PyTorch DataLoader, batched, shuffled, and used to run a forward pass on a custom fully connected neural network.\n",
    "\n",
    "NumPy as np, pandas as pd, torch, TensorDataset(), and DataLoader() have been imported for you.\n",
    "\n",
    "**Instructions**\n",
    "\n",
    "1. Extract the features (`ph`, `Sulfate`, `Conductivity`, `Organic_carbon`) and target (`Potability`) values and load them into the appropriate tensors to represent features and targets.\n",
    "2. Use both tensors to create a PyTorch dataset using the dataset class that's quickest to use when tensors don't require any additional preprocessing.\n",
    "3. Create a PyTorch DataLoader from the created `TensorDataset`; this `DataLoader` should use a `batch_size` of two and `shuffle` the dataset.\n",
    "4. Implement a small, fully connected neural network using exactly two linear layers and the `nn.Sequential()` API, where the final output size is 1."
   ]
  },
  {
   "cell_type": "code",
   "execution_count": 11,
   "id": "ed367d10-ab0c-4f6b-a50a-c0535a921730",
   "metadata": {},
   "outputs": [
    {
     "name": "stdout",
     "output_type": "stream",
     "text": [
      "(2011, 10)\n",
      "Potability\n",
      "0    1200\n",
      "1     811\n",
      "Name: count, dtype: int64\n"
     ]
    },
    {
     "data": {
      "text/html": [
       "<div>\n",
       "<style scoped>\n",
       "    .dataframe tbody tr th:only-of-type {\n",
       "        vertical-align: middle;\n",
       "    }\n",
       "\n",
       "    .dataframe tbody tr th {\n",
       "        vertical-align: top;\n",
       "    }\n",
       "\n",
       "    .dataframe thead th {\n",
       "        text-align: right;\n",
       "    }\n",
       "</style>\n",
       "<table border=\"1\" class=\"dataframe\">\n",
       "  <thead>\n",
       "    <tr style=\"text-align: right;\">\n",
       "      <th></th>\n",
       "      <th>ph</th>\n",
       "      <th>Hardness</th>\n",
       "      <th>Solids</th>\n",
       "      <th>Chloramines</th>\n",
       "      <th>Sulfate</th>\n",
       "      <th>Conductivity</th>\n",
       "      <th>Organic_carbon</th>\n",
       "      <th>Trihalomethanes</th>\n",
       "      <th>Turbidity</th>\n",
       "      <th>Potability</th>\n",
       "    </tr>\n",
       "  </thead>\n",
       "  <tbody>\n",
       "    <tr>\n",
       "      <th>0</th>\n",
       "      <td>0.587349</td>\n",
       "      <td>0.577747</td>\n",
       "      <td>0.386298</td>\n",
       "      <td>0.568199</td>\n",
       "      <td>0.647347</td>\n",
       "      <td>0.292985</td>\n",
       "      <td>0.654522</td>\n",
       "      <td>0.795029</td>\n",
       "      <td>0.630115</td>\n",
       "      <td>0</td>\n",
       "    </tr>\n",
       "    <tr>\n",
       "      <th>1</th>\n",
       "      <td>0.643654</td>\n",
       "      <td>0.441300</td>\n",
       "      <td>0.314381</td>\n",
       "      <td>0.439304</td>\n",
       "      <td>0.514545</td>\n",
       "      <td>0.356685</td>\n",
       "      <td>0.377248</td>\n",
       "      <td>0.202914</td>\n",
       "      <td>0.520358</td>\n",
       "      <td>0</td>\n",
       "    </tr>\n",
       "    <tr>\n",
       "      <th>2</th>\n",
       "      <td>0.388934</td>\n",
       "      <td>0.470876</td>\n",
       "      <td>0.506122</td>\n",
       "      <td>0.524364</td>\n",
       "      <td>0.561537</td>\n",
       "      <td>0.142913</td>\n",
       "      <td>0.249922</td>\n",
       "      <td>0.401487</td>\n",
       "      <td>0.219973</td>\n",
       "      <td>0</td>\n",
       "    </tr>\n",
       "    <tr>\n",
       "      <th>3</th>\n",
       "      <td>0.725820</td>\n",
       "      <td>0.715942</td>\n",
       "      <td>0.506141</td>\n",
       "      <td>0.521683</td>\n",
       "      <td>0.751819</td>\n",
       "      <td>0.148683</td>\n",
       "      <td>0.467200</td>\n",
       "      <td>0.658678</td>\n",
       "      <td>0.242428</td>\n",
       "      <td>0</td>\n",
       "    </tr>\n",
       "    <tr>\n",
       "      <th>4</th>\n",
       "      <td>0.610517</td>\n",
       "      <td>0.532588</td>\n",
       "      <td>0.237701</td>\n",
       "      <td>0.270288</td>\n",
       "      <td>0.495155</td>\n",
       "      <td>0.494792</td>\n",
       "      <td>0.409721</td>\n",
       "      <td>0.469762</td>\n",
       "      <td>0.585049</td>\n",
       "      <td>0</td>\n",
       "    </tr>\n",
       "  </tbody>\n",
       "</table>\n",
       "</div>"
      ],
      "text/plain": [
       "         ph  Hardness    Solids  Chloramines   Sulfate  Conductivity  \\\n",
       "0  0.587349  0.577747  0.386298     0.568199  0.647347      0.292985   \n",
       "1  0.643654  0.441300  0.314381     0.439304  0.514545      0.356685   \n",
       "2  0.388934  0.470876  0.506122     0.524364  0.561537      0.142913   \n",
       "3  0.725820  0.715942  0.506141     0.521683  0.751819      0.148683   \n",
       "4  0.610517  0.532588  0.237701     0.270288  0.495155      0.494792   \n",
       "\n",
       "   Organic_carbon  Trihalomethanes  Turbidity  Potability  \n",
       "0        0.654522         0.795029   0.630115           0  \n",
       "1        0.377248         0.202914   0.520358           0  \n",
       "2        0.249922         0.401487   0.219973           0  \n",
       "3        0.467200         0.658678   0.242428           0  \n",
       "4        0.409721         0.469762   0.585049           0  "
      ]
     },
     "execution_count": 11,
     "metadata": {},
     "output_type": "execute_result"
    }
   ],
   "source": [
    "df_water = pd.read_csv('data-sources/water_potability.csv')\n",
    "print(df_water.shape)\n",
    "print(df_water.Potability.value_counts())\n",
    "df_water.head()"
   ]
  },
  {
   "cell_type": "code",
   "execution_count": 12,
   "id": "8d217c82-c54c-4a3b-be6d-2a209dc66d51",
   "metadata": {},
   "outputs": [
    {
     "name": "stdout",
     "output_type": "stream",
     "text": [
      "tensor([[-0.5961157084],\n",
      "        [-0.5502838492],\n",
      "        [-0.5151942372],\n",
      "        ...,\n",
      "        [-0.5749674439],\n",
      "        [-0.5613026619],\n",
      "        [-0.5903500319]], grad_fn=<AddmmBackward0>)\n"
     ]
    }
   ],
   "source": [
    "# Load the different columns into two PyTorch tensors\n",
    "features = torch.tensor(df_water[['ph', 'Sulfate',\n",
    "                                   'Conductivity', 'Organic_carbon']].to_numpy()).float()\n",
    "target = torch.tensor(df_water['Potability'].to_numpy()).float()\n",
    "\n",
    "# Create a dataset from the two generated tensors\n",
    "dataset = TensorDataset(features, target)\n",
    "\n",
    "# Create a dataloader using the above dataset\n",
    "dataloader = DataLoader(dataset, shuffle=True, batch_size=2)\n",
    "x, y = next(iter(dataloader))\n",
    "\n",
    "# Create a model using the nn.Sequential API\n",
    "model = nn.Sequential(\n",
    "    nn.Linear(4, 2),\n",
    "    nn.Linear(2, 1)\n",
    ")\n",
    "output = model(features)\n",
    "print(output)"
   ]
  },
  {
   "cell_type": "markdown",
   "id": "ccfd9cc6-fef2-4fe7-a9ce-e3ae7c6a08cb",
   "metadata": {},
   "source": [
    "## 4.2 Evaluating model performance\n",
    "\n",
    "### Animal Dataset\n",
    "\n",
    "#### Splitting into Training, validation and testing"
   ]
  },
  {
   "cell_type": "code",
   "execution_count": 13,
   "id": "178444ea-d484-4a12-9dda-b1e9640861ea",
   "metadata": {},
   "outputs": [
    {
     "data": {
      "text/plain": [
       "(tensor([0., 1., 1., 0., 0., 0., 2., 1.]),\n",
       " tensor([0., 1., 0., 0., 0., 0., 0.]))"
      ]
     },
     "execution_count": 13,
     "metadata": {},
     "output_type": "execute_result"
    }
   ],
   "source": [
    "# Working again with the animal dataset\n",
    "# We are using only hair, feathers, eggs, milk, predator, fins, legs, and tail\n",
    "Xa = df_animal[['hair', 'feathers', 'eggs', 'milk', 'predator', 'fins', 'legs', 'tail']].values\n",
    "ya = df_animal['class_type'].values - 1\n",
    "\n",
    "# Encoding the target variable\n",
    "# Type key: mammal (1), bird (2), reptile (3), fish (4), amphibian (5), bug (6), invertebrate (7)\n",
    "ya = F.one_hot(torch.tensor(ya), num_classes=7)\n",
    "\n",
    "# Instantiate dataset class\n",
    "dataset_a = TensorDataset(torch.tensor(Xa).float(), ya.float())\n",
    "\n",
    "# Last item in dataset\n",
    "dataset_a[-1]"
   ]
  },
  {
   "cell_type": "code",
   "execution_count": 14,
   "id": "e7c397ca-26fc-428d-b68e-224b76dd2828",
   "metadata": {},
   "outputs": [
    {
     "data": {
      "text/plain": [
       "(81, 10, 10)"
      ]
     },
     "execution_count": 14,
     "metadata": {},
     "output_type": "execute_result"
    }
   ],
   "source": [
    "# Reproducibility\n",
    "torch.manual_seed(SEED)\n",
    "\n",
    "# Splitting into training, validation and testing set\n",
    "train_set_a, val_set_a = torch.utils.data.random_split(dataset_a, [.8, .2])\n",
    "val_set_a, test_set_a = torch.utils.data.random_split(val_set_a, [.5, .5])\n",
    "\n",
    "len(train_set_a), len(val_set_a), len(test_set_a)"
   ]
  },
  {
   "cell_type": "code",
   "execution_count": 15,
   "id": "049fdb01-268b-4abf-9972-e0a15cd93ea8",
   "metadata": {},
   "outputs": [],
   "source": [
    "# Reproducibility\n",
    "torch.manual_seed(SEED)\n",
    "\n",
    "# Recalling the DataLoader\n",
    "batch_size_a = 100\n",
    "shuffle_a = True\n",
    "trainloader_a = DataLoader(train_set_a, batch_size=batch_size_a, shuffle=shuffle_a)\n",
    "valloader_a = DataLoader(val_set_a, batch_size=batch_size_a, shuffle=shuffle_a)\n",
    "testloader_a = DataLoader(test_set_a, batch_size=batch_size_a, shuffle=shuffle_a)"
   ]
  },
  {
   "cell_type": "markdown",
   "id": "615ff4b5-18da-4de4-9cc3-9d64a311f57f",
   "metadata": {},
   "source": [
    "#### Training the model"
   ]
  },
  {
   "cell_type": "code",
   "execution_count": 16,
   "id": "e6ac492f-5702-4cdc-95e0-68e167bb17a7",
   "metadata": {},
   "outputs": [],
   "source": [
    "# Reproducibility\n",
    "torch.manual_seed(SEED)\n",
    "\n",
    "# Setting the model\n",
    "model_a = nn.Sequential(\n",
    "    nn.Linear(8, 16),\n",
    "    nn.Linear(16, 7),\n",
    "    nn.Softmax(dim=-1)  # Softmax activation\n",
    ")\n",
    "\n",
    "# Create the loss and Optimizer\n",
    "criterion_a = CrossEntropyLoss()\n",
    "optimizer_a = optim.SGD(model_a.parameters(), lr=0.001, momentum=0.95)"
   ]
  },
  {
   "cell_type": "code",
   "execution_count": 17,
   "id": "485b4f77-9d2a-429d-9a71-b90e9e57bdb7",
   "metadata": {},
   "outputs": [
    {
     "name": "stdout",
     "output_type": "stream",
     "text": [
      "Epoch 0: Loss >> 1.9347037076950073\n",
      "Epoch 1: Loss >> 1.9346528053283691\n",
      "Epoch 2: Loss >> 1.9345533847808838\n",
      "Epoch 3: Loss >> 1.9344080686569214\n",
      "Epoch 4: Loss >> 1.9342190027236938\n",
      "Epoch 5: Loss >> 1.9339874982833862\n",
      "Epoch 6: Loss >> 1.933715581893921\n",
      "Epoch 7: Loss >> 1.9334050416946411\n",
      "Epoch 8: Loss >> 1.9330570697784424\n",
      "Epoch 9: Loss >> 1.932673454284668\n",
      "Epoch 10: Loss >> 1.9322551488876343\n",
      "Epoch 11: Loss >> 1.9318033456802368\n",
      "Epoch 12: Loss >> 1.9313191175460815\n",
      "Epoch 13: Loss >> 1.9308034181594849\n",
      "Epoch 14: Loss >> 1.9302573204040527\n",
      "Epoch 15: Loss >> 1.929681658744812\n",
      "Epoch 16: Loss >> 1.9290765523910522\n",
      "Epoch 17: Loss >> 1.928443431854248\n",
      "Epoch 18: Loss >> 1.9277830123901367\n",
      "Epoch 19: Loss >> 1.9270950555801392\n",
      "Epoch 20: Loss >> 1.9263806343078613\n",
      "Epoch 21: Loss >> 1.9256399869918823\n",
      "Epoch 22: Loss >> 1.9248740673065186\n",
      "Epoch 23: Loss >> 1.9240822792053223\n",
      "Epoch 24: Loss >> 1.9232655763626099\n",
      "Epoch 25: Loss >> 1.92242431640625\n",
      "Epoch 26: Loss >> 1.9215587377548218\n",
      "Epoch 27: Loss >> 1.9206688404083252\n",
      "Epoch 28: Loss >> 1.9197546243667603\n",
      "Epoch 29: Loss >> 1.9188166856765747\n",
      "Epoch 30: Loss >> 1.9178550243377686\n",
      "Epoch 31: Loss >> 1.9168695211410522\n",
      "Epoch 32: Loss >> 1.9158604145050049\n",
      "Epoch 33: Loss >> 1.9148277044296265\n",
      "Epoch 34: Loss >> 1.913771629333496\n",
      "Epoch 35: Loss >> 1.9126920700073242\n",
      "Epoch 36: Loss >> 1.9115885496139526\n",
      "Epoch 37: Loss >> 1.910461664199829\n",
      "Epoch 38: Loss >> 1.9093109369277954\n",
      "Epoch 39: Loss >> 1.9081368446350098\n",
      "Epoch 40: Loss >> 1.9069386720657349\n",
      "Epoch 41: Loss >> 1.905716896057129\n",
      "Epoch 42: Loss >> 1.9044709205627441\n",
      "Epoch 43: Loss >> 1.9032007455825806\n",
      "Epoch 44: Loss >> 1.9019064903259277\n",
      "Epoch 45: Loss >> 1.9005879163742065\n",
      "Epoch 46: Loss >> 1.8992445468902588\n",
      "Epoch 47: Loss >> 1.8978768587112427\n",
      "Epoch 48: Loss >> 1.896484136581421\n",
      "Epoch 49: Loss >> 1.8950666189193726\n",
      "Epoch 50: Loss >> 1.8936240673065186\n",
      "Epoch 51: Loss >> 1.8921561241149902\n",
      "Epoch 52: Loss >> 1.8906629085540771\n",
      "Epoch 53: Loss >> 1.8891443014144897\n",
      "Epoch 54: Loss >> 1.8875998258590698\n",
      "Epoch 55: Loss >> 1.886029839515686\n",
      "Epoch 56: Loss >> 1.8844341039657593\n",
      "Epoch 57: Loss >> 1.8828117847442627\n",
      "Epoch 58: Loss >> 1.8811641931533813\n",
      "Epoch 59: Loss >> 1.8794902563095093\n",
      "Epoch 60: Loss >> 1.877790093421936\n",
      "Epoch 61: Loss >> 1.8760641813278198\n",
      "Epoch 62: Loss >> 1.8743118047714233\n",
      "Epoch 63: Loss >> 1.8725335597991943\n",
      "Epoch 64: Loss >> 1.8707292079925537\n",
      "Epoch 65: Loss >> 1.8688991069793701\n",
      "Epoch 66: Loss >> 1.8670430183410645\n",
      "Epoch 67: Loss >> 1.865161418914795\n",
      "Epoch 68: Loss >> 1.8632546663284302\n",
      "Epoch 69: Loss >> 1.8613228797912598\n",
      "Epoch 70: Loss >> 1.8593659400939941\n",
      "Epoch 71: Loss >> 1.8573849201202393\n",
      "Epoch 72: Loss >> 1.8553797006607056\n",
      "Epoch 73: Loss >> 1.8533507585525513\n",
      "Epoch 74: Loss >> 1.8512989282608032\n",
      "Epoch 75: Loss >> 1.84922456741333\n",
      "Epoch 76: Loss >> 1.8471283912658691\n",
      "Epoch 77: Loss >> 1.8450109958648682\n",
      "Epoch 78: Loss >> 1.842873454093933\n",
      "Epoch 79: Loss >> 1.8407161235809326\n",
      "Epoch 80: Loss >> 1.8385403156280518\n",
      "Epoch 81: Loss >> 1.8363466262817383\n",
      "Epoch 82: Loss >> 1.8341366052627563\n",
      "Epoch 83: Loss >> 1.8319108486175537\n",
      "Epoch 84: Loss >> 1.8296709060668945\n",
      "Epoch 85: Loss >> 1.8274178504943848\n",
      "Epoch 86: Loss >> 1.8251525163650513\n",
      "Epoch 87: Loss >> 1.822877287864685\n",
      "Epoch 88: Loss >> 1.8205927610397339\n",
      "Epoch 89: Loss >> 1.8183009624481201\n",
      "Epoch 90: Loss >> 1.8160030841827393\n",
      "Epoch 91: Loss >> 1.8137006759643555\n",
      "Epoch 92: Loss >> 1.8113958835601807\n",
      "Epoch 93: Loss >> 1.8090898990631104\n",
      "Epoch 94: Loss >> 1.8067845106124878\n",
      "Epoch 95: Loss >> 1.8044819831848145\n",
      "Epoch 96: Loss >> 1.8021835088729858\n",
      "Epoch 97: Loss >> 1.7998909950256348\n",
      "Epoch 98: Loss >> 1.7976067066192627\n",
      "Epoch 99: Loss >> 1.795331597328186\n"
     ]
    }
   ],
   "source": [
    "# Loop through the dataset multiple times\n",
    "num_epochs_a = 100\n",
    "epochs_training_loss_a = []\n",
    "model_a.train()\n",
    "for epoch in range(num_epochs_a):\n",
    "    training_loss_a = 0.0\n",
    "    for i, data in enumerate(trainloader_a):\n",
    "        # Get feature and target from the data loader\n",
    "        X_a, y_a = data\n",
    "\n",
    "        # zero the parameter gradients\n",
    "        optimizer_a.zero_grad()\n",
    "\n",
    "        # Run a forward pass\n",
    "        pred_a = model_a(X_a)\n",
    "    \n",
    "        # Compute loss \n",
    "        loss = criterion_a(pred_a, y_a)\n",
    "        training_loss_a += loss\n",
    "        \n",
    "        # Backward pass and optimization\n",
    "        loss.backward()\n",
    "        optimizer_a.step()\n",
    "    \n",
    "    # Calculate the mean loss value\n",
    "    training_loss_a = training_loss_a / len(trainloader_a)\n",
    "    epochs_training_loss_a.append(training_loss_a.item())\n",
    "    print(f'Epoch {epoch}: Loss >> {training_loss_a}')"
   ]
  },
  {
   "cell_type": "code",
   "execution_count": 18,
   "id": "c9140e27-c7e0-43f1-b068-bfc3358fb0c3",
   "metadata": {},
   "outputs": [
    {
     "data": {
      "text/plain": [
       "1.8841560423374175"
      ]
     },
     "execution_count": 18,
     "metadata": {},
     "output_type": "execute_result"
    }
   ],
   "source": [
    "# Calculate the mean loss value\n",
    "np.mean(epochs_training_loss_a)"
   ]
  },
  {
   "cell_type": "markdown",
   "id": "0ac5f24b-a718-4768-8f92-5e8ef776add7",
   "metadata": {},
   "source": [
    "### FaceMask Dataset\n",
    "\n",
    "#### Reading data"
   ]
  },
  {
   "cell_type": "code",
   "execution_count": 19,
   "id": "727eb0b8-ca09-4881-9767-dad80de68eb2",
   "metadata": {},
   "outputs": [
    {
     "name": "stdout",
     "output_type": "stream",
     "text": [
      "\n",
      "Features: (355, 32, 32, 3) = 3072\n",
      "Target: {0, 1, 2} = 3\n",
      "\n",
      "Features after transposing demensions: (355, 3, 32, 32) = 3072\n"
     ]
    },
    {
     "data": {
      "text/plain": [
       "(numpy.ndarray, numpy.ndarray)"
      ]
     },
     "execution_count": 19,
     "metadata": {},
     "output_type": "execute_result"
    }
   ],
   "source": [
    "Xface, yface = pd.read_pickle('data-sources/masks_dataset.pickle')\n",
    "print(f\"\"\"\n",
    "Features: {Xface.shape} = {np.prod(Xface.shape[1:])}\n",
    "Target: {set(yface)} = {len(set(yface))}\n",
    "\"\"\")\n",
    "\n",
    "\n",
    "# Reshaping the images set to have the channel in the second dimension\n",
    "Xface = np.transpose(Xface, (0, 3, 1, 2))\n",
    "print(f\"Features after transposing demensions: {Xface.shape} = {np.prod(Xface.shape[1:])}\")\n",
    "\n",
    "type(Xface), type(yface)"
   ]
  },
  {
   "cell_type": "markdown",
   "id": "1c33c729-bf63-4cb8-b9a0-fad10416ae7e",
   "metadata": {},
   "source": [
    "#### Splitting into Training, validation and testing"
   ]
  },
  {
   "cell_type": "code",
   "execution_count": 20,
   "id": "7a645054-d5d5-435a-ab29-649c26ac1b48",
   "metadata": {},
   "outputs": [],
   "source": [
    "# Encoding the target variable\n",
    "yface_encoded = F.one_hot(torch.tensor(yface), num_classes=len(set(yface)))\n",
    "\n",
    "# Instantiate dataset class\n",
    "dataset_face = TensorDataset(torch.tensor(Xface).float(), yface_encoded.float())\n",
    "\n",
    "# # Last item in dataset\n",
    "# dataset_face[-1]"
   ]
  },
  {
   "cell_type": "code",
   "execution_count": 21,
   "id": "6996e4a3-609e-4252-b886-a1da03e816cc",
   "metadata": {},
   "outputs": [
    {
     "data": {
      "text/plain": [
       "(284, 36, 35)"
      ]
     },
     "execution_count": 21,
     "metadata": {},
     "output_type": "execute_result"
    }
   ],
   "source": [
    "# Reproducibility\n",
    "torch.manual_seed(SEED)\n",
    "\n",
    "# Splitting into training, validation and testing set\n",
    "train_set_face, val_set_face = torch.utils.data.random_split(dataset_face, [.8, .2])\n",
    "val_set_face, test_set_face = torch.utils.data.random_split(val_set_face, [.5, .5])\n",
    "\n",
    "len(train_set_face), len(val_set_face), len(test_set_face)"
   ]
  },
  {
   "cell_type": "code",
   "execution_count": 22,
   "id": "4b5e0f10-64a3-4f17-80f4-5606a9845bc4",
   "metadata": {},
   "outputs": [
    {
     "name": "stdout",
     "output_type": "stream",
     "text": [
      "Last target in train loader: tensor([0., 1., 0.])\n"
     ]
    },
    {
     "data": {
      "text/plain": [
       "(284, 36, 35)"
      ]
     },
     "execution_count": 22,
     "metadata": {},
     "output_type": "execute_result"
    }
   ],
   "source": [
    "# Reproducibility\n",
    "torch.manual_seed(SEED)\n",
    "\n",
    "# Recalling the DataLoader\n",
    "batch_size_face = 100\n",
    "shuffle_face = True\n",
    "trainloader_face = DataLoader(train_set_face, batch_size=batch_size_face, shuffle=shuffle_face)\n",
    "valloader_face = DataLoader(val_set_face, batch_size=batch_size_face, shuffle=shuffle_face)\n",
    "testloader_face = DataLoader(test_set_face, batch_size=batch_size_face, shuffle=shuffle_face)\n",
    "\n",
    "# print target in the last element of the train loader\n",
    "print('Last target in train loader:', trainloader_face.dataset[-1][1])  # 0 is the features\n",
    "len(trainloader_face.dataset), len(valloader_face.dataset), len(testloader_face.dataset)"
   ]
  },
  {
   "cell_type": "markdown",
   "id": "a386cb14-7268-4956-b9ae-fc59b380ffe8",
   "metadata": {},
   "source": [
    "#### Training the model"
   ]
  },
  {
   "cell_type": "code",
   "execution_count": 23,
   "id": "bc15be02-1953-465e-97e8-f75907a2c3a3",
   "metadata": {},
   "outputs": [
    {
     "data": {
      "text/plain": [
       "Sequential(\n",
       "  (0): Normalize(mean=[0.5137812899236973, 0.4499961909157517, 0.422587966943309], std=[0.250811625348822, 0.24213039004760292, 0.24616128365795462], inplace=False)\n",
       "  (1): Flatten(start_dim=1, end_dim=-1)\n",
       "  (2): Linear(in_features=3072, out_features=3, bias=True)\n",
       "  (3): Softmax(dim=-1)\n",
       ")"
      ]
     },
     "execution_count": 23,
     "metadata": {},
     "output_type": "execute_result"
    }
   ],
   "source": [
    "# Reproducibility\n",
    "torch.manual_seed(SEED)\n",
    "\n",
    "# Getting mean and std per channel in images:\n",
    "mean = np.mean(Xface, axis=(0, 2, 3))\n",
    "std = np.std(Xface, axis=(0, 2, 3))\n",
    "\n",
    "# Setting the model\n",
    "model_face = nn.Sequential(\n",
    "    v2.Normalize(mean=mean, std=std),\n",
    "    nn.Flatten(),\n",
    "    nn.Linear(3072, 3),\n",
    "    nn.Softmax(dim=-1)  # Softmax activation\n",
    ")\n",
    "\n",
    "# Create the loss and Optimizer\n",
    "criterion_face = CrossEntropyLoss()\n",
    "optimizer_face = optim.SGD(model_face.parameters(), lr=0.001, momentum=0.95)\n",
    "\n",
    "model_face"
   ]
  },
  {
   "cell_type": "code",
   "execution_count": 24,
   "id": "2851d55e-1c01-4e5f-9a7a-3083f972f5a4",
   "metadata": {},
   "outputs": [
    {
     "name": "stdout",
     "output_type": "stream",
     "text": [
      "Epoch 0: Loss >> 1.1058155298233032\n",
      "Epoch 1: Loss >> 1.0287917852401733\n",
      "Epoch 2: Loss >> 0.9581666588783264\n",
      "Epoch 3: Loss >> 0.9120866656303406\n",
      "Epoch 4: Loss >> 0.896742045879364\n",
      "Epoch 5: Loss >> 0.8842758536338806\n",
      "Epoch 6: Loss >> 0.8771467208862305\n",
      "Epoch 7: Loss >> 0.8692712187767029\n",
      "Epoch 8: Loss >> 0.859844982624054\n",
      "Epoch 9: Loss >> 0.8523675799369812\n",
      "Epoch 10: Loss >> 0.8431875705718994\n",
      "Epoch 11: Loss >> 0.8300666809082031\n",
      "Epoch 12: Loss >> 0.8224826455116272\n",
      "Epoch 13: Loss >> 0.8171380162239075\n",
      "Epoch 14: Loss >> 0.8074149489402771\n",
      "Epoch 15: Loss >> 0.7983210682868958\n",
      "Epoch 16: Loss >> 0.7968728542327881\n",
      "Epoch 17: Loss >> 0.7847030162811279\n",
      "Epoch 18: Loss >> 0.7791962027549744\n",
      "Epoch 19: Loss >> 0.7755926251411438\n",
      "Epoch 20: Loss >> 0.7695341110229492\n",
      "Epoch 21: Loss >> 0.7636486887931824\n",
      "Epoch 22: Loss >> 0.7597458958625793\n",
      "Epoch 23: Loss >> 0.7525960803031921\n",
      "Epoch 24: Loss >> 0.7483388781547546\n",
      "Epoch 25: Loss >> 0.7440455555915833\n",
      "Epoch 26: Loss >> 0.7398379445075989\n",
      "Epoch 27: Loss >> 0.7394455075263977\n",
      "Epoch 28: Loss >> 0.7324159741401672\n",
      "Epoch 29: Loss >> 0.7323672771453857\n",
      "Epoch 30: Loss >> 0.7325455546379089\n",
      "Epoch 31: Loss >> 0.7304156422615051\n",
      "Epoch 32: Loss >> 0.7229559421539307\n",
      "Epoch 33: Loss >> 0.7203729748725891\n",
      "Epoch 34: Loss >> 0.7197120785713196\n",
      "Epoch 35: Loss >> 0.7161101698875427\n",
      "Epoch 36: Loss >> 0.716802179813385\n",
      "Epoch 37: Loss >> 0.714085042476654\n",
      "Epoch 38: Loss >> 0.7119892239570618\n",
      "Epoch 39: Loss >> 0.7098568081855774\n",
      "Epoch 40: Loss >> 0.7088744044303894\n",
      "Epoch 41: Loss >> 0.7053465843200684\n",
      "Epoch 42: Loss >> 0.704005241394043\n",
      "Epoch 43: Loss >> 0.7001948356628418\n",
      "Epoch 44: Loss >> 0.6976407170295715\n",
      "Epoch 45: Loss >> 0.6964712142944336\n",
      "Epoch 46: Loss >> 0.6958425641059875\n",
      "Epoch 47: Loss >> 0.6927275657653809\n",
      "Epoch 48: Loss >> 0.6873486638069153\n",
      "Epoch 49: Loss >> 0.6857803463935852\n",
      "Epoch 50: Loss >> 0.6802111268043518\n",
      "Epoch 51: Loss >> 0.6773969531059265\n",
      "Epoch 52: Loss >> 0.676757276058197\n",
      "Epoch 53: Loss >> 0.6730776429176331\n",
      "Epoch 54: Loss >> 0.6688979268074036\n",
      "Epoch 55: Loss >> 0.6656496524810791\n",
      "Epoch 56: Loss >> 0.661932647228241\n",
      "Epoch 57: Loss >> 0.6589471101760864\n",
      "Epoch 58: Loss >> 0.655947744846344\n",
      "Epoch 59: Loss >> 0.6539778113365173\n",
      "Epoch 60: Loss >> 0.6525866985321045\n",
      "Epoch 61: Loss >> 0.6504786610603333\n",
      "Epoch 62: Loss >> 0.6477590203285217\n",
      "Epoch 63: Loss >> 0.6448935866355896\n",
      "Epoch 64: Loss >> 0.6465040445327759\n",
      "Epoch 65: Loss >> 0.6420871615409851\n",
      "Epoch 66: Loss >> 0.6411277651786804\n",
      "Epoch 67: Loss >> 0.638911783695221\n",
      "Epoch 68: Loss >> 0.638480007648468\n",
      "Epoch 69: Loss >> 0.6362860202789307\n",
      "Epoch 70: Loss >> 0.6341384053230286\n",
      "Epoch 71: Loss >> 0.6339316964149475\n",
      "Epoch 72: Loss >> 0.6323403120040894\n",
      "Epoch 73: Loss >> 0.6326286196708679\n",
      "Epoch 74: Loss >> 0.6306174397468567\n",
      "Epoch 75: Loss >> 0.6286152005195618\n",
      "Epoch 76: Loss >> 0.6279833912849426\n",
      "Epoch 77: Loss >> 0.6272469162940979\n",
      "Epoch 78: Loss >> 0.62600177526474\n",
      "Epoch 79: Loss >> 0.6254305839538574\n",
      "Epoch 80: Loss >> 0.6246603727340698\n",
      "Epoch 81: Loss >> 0.6221533417701721\n",
      "Epoch 82: Loss >> 0.6217502951622009\n",
      "Epoch 83: Loss >> 0.620678186416626\n",
      "Epoch 84: Loss >> 0.62038254737854\n",
      "Epoch 85: Loss >> 0.6177650094032288\n",
      "Epoch 86: Loss >> 0.6172755360603333\n",
      "Epoch 87: Loss >> 0.6169950366020203\n",
      "Epoch 88: Loss >> 0.6172459721565247\n",
      "Epoch 89: Loss >> 0.6158137321472168\n",
      "Epoch 90: Loss >> 0.615402340888977\n",
      "Epoch 91: Loss >> 0.613612174987793\n",
      "Epoch 92: Loss >> 0.612767219543457\n",
      "Epoch 93: Loss >> 0.6133400797843933\n",
      "Epoch 94: Loss >> 0.610840380191803\n",
      "Epoch 95: Loss >> 0.6117032170295715\n",
      "Epoch 96: Loss >> 0.6108619570732117\n",
      "Epoch 97: Loss >> 0.6110876202583313\n",
      "Epoch 98: Loss >> 0.6087866425514221\n",
      "Epoch 99: Loss >> 0.6107297539710999\n"
     ]
    }
   ],
   "source": [
    "# Loop through the dataset multiple times\n",
    "num_epochs_face = 100\n",
    "epochs_training_loss_face = []\n",
    "model_face.train()\n",
    "for epoch in range(num_epochs_face):\n",
    "    training_loss_face = 0.0\n",
    "    for i, data in enumerate(trainloader_face):\n",
    "        # Get feature and target from the data loader\n",
    "        X_face, y_face = data\n",
    "\n",
    "        # zero the parameter gradients\n",
    "        optimizer_face.zero_grad()\n",
    "\n",
    "        # Run a forward pass\n",
    "        pred_face = model_face(X_face)\n",
    "    \n",
    "        # Compute loss \n",
    "        loss = criterion_face(pred_face, y_face)\n",
    "        training_loss_face += loss\n",
    "        \n",
    "        # Backward pass and optimization\n",
    "        loss.backward()\n",
    "        optimizer_face.step()\n",
    "    \n",
    "    # Calculate the mean loss value\n",
    "    training_loss_face = training_loss_face / len(trainloader_face)\n",
    "    epochs_training_loss_face.append(training_loss_face.item())\n",
    "    print(f'Epoch {epoch}: Loss >> {training_loss_face}')"
   ]
  },
  {
   "cell_type": "code",
   "execution_count": 25,
   "id": "5fb9184e-976e-477e-86bd-d3fae66f1f71",
   "metadata": {},
   "outputs": [
    {
     "data": {
      "text/plain": [
       "0.7067523473501205"
      ]
     },
     "execution_count": 25,
     "metadata": {},
     "output_type": "execute_result"
    }
   ],
   "source": [
    "# Calculate the mean loss value\n",
    "np.mean(epochs_training_loss_face)"
   ]
  },
  {
   "cell_type": "markdown",
   "id": "7a39ede1-a1fe-4af0-b2d5-ddeca2ee8949",
   "metadata": {},
   "source": [
    "### Calculating accuracy with torchmetrics"
   ]
  },
  {
   "cell_type": "code",
   "execution_count": 26,
   "id": "2ad5e68f-f8c3-4f12-91f7-792ebb3573e2",
   "metadata": {},
   "outputs": [
    {
     "data": {
      "text/plain": [
       "tensor(0.7500000000)"
      ]
     },
     "execution_count": 26,
     "metadata": {},
     "output_type": "execute_result"
    }
   ],
   "source": [
    "# Categories predicted\n",
    "target = torch.tensor([0, 1, 2, 3])\n",
    "preds = torch.tensor([0, 1, 1, 3])\n",
    "accuracy = torchmetrics.Accuracy(task=\"multiclass\", num_classes=4)\n",
    "accuracy(preds, target)"
   ]
  },
  {
   "cell_type": "code",
   "execution_count": 27,
   "id": "72f74085-5e65-4f5b-b271-5e38be653dd8",
   "metadata": {},
   "outputs": [
    {
     "data": {
      "text/plain": [
       "tensor(0.3333333433)"
      ]
     },
     "execution_count": 27,
     "metadata": {},
     "output_type": "execute_result"
    }
   ],
   "source": [
    "# Probabilities predicted\n",
    "target = torch.tensor([0, 1, 1])\n",
    "preds = torch.tensor([[0.1, 0.9, 0], [0.3, 0.1, 0.6], [0.2, 0.5, 0.3]])  # [1, 2, 1]\n",
    "accuracy = torchmetrics.Accuracy(task=\"multiclass\", num_classes=3)\n",
    "accuracy(preds, target)"
   ]
  },
  {
   "cell_type": "markdown",
   "id": "09f66690-0882-4f2e-9173-6107bacacfd2",
   "metadata": {},
   "source": [
    "### Ex.3 - Writing the evaluation loop\n",
    "In this exercise, you will practice writing the evaluation loop. Recall that the evaluation loop is similar to the training loop, except that you will not perform the gradient calculation and the optimizer step.\n",
    "\n",
    "The model has already been defined for you, along with the object validationloader, which is a dataset.\n",
    "\n",
    "**Instructions**\n",
    "1. Set the model to evaluation mode.\n",
    "2. Sum the current batch loss to the validation_loss variable."
   ]
  },
  {
   "cell_type": "markdown",
   "id": "5765a109-e1ea-41b7-94ea-3f7bc9a83fe7",
   "metadata": {},
   "source": [
    "#### FaceMask Dataset"
   ]
  },
  {
   "cell_type": "code",
   "execution_count": 28,
   "id": "6574b048-0e9d-4e31-a7ad-29820a67aefa",
   "metadata": {},
   "outputs": [
    {
     "name": "stdout",
     "output_type": "stream",
     "text": [
      "36\n",
      "Validation Set: Loss >> 0.7663740515708923\n"
     ]
    }
   ],
   "source": [
    "# Set the model to evaluation mode\n",
    "# using validation loader\n",
    "model_face.eval()\n",
    "validation_loss_face = 0.0\n",
    "\n",
    "with torch.no_grad():\n",
    "  for data in valloader_face:\n",
    "      # Get feature and target from the data loader\n",
    "      X_f, y_f = data\n",
    "      print(len(X_f))\n",
    "      # Get predictions\n",
    "      pred_f = model_face(X_f)\n",
    "      loss = criterion_face(pred_f,y_f)\n",
    "      \n",
    "      # Sum the current loss to the validation_loss variable\n",
    "      validation_loss_face += loss.item()\n",
    "      \n",
    "# Calculate the mean loss value\n",
    "validation_loss_face = validation_loss_face / len(valloader_face)\n",
    "print(f'Validation Set: Loss >> {validation_loss_face}')"
   ]
  },
  {
   "cell_type": "code",
   "execution_count": 29,
   "id": "df7352ed-043a-4293-bf09-233c7d565613",
   "metadata": {},
   "outputs": [
    {
     "name": "stdout",
     "output_type": "stream",
     "text": [
      "Validation Set: Loss >> 0.6815488338470459\n"
     ]
    }
   ],
   "source": [
    "# Set the model to evaluation mode\n",
    "# using testing loader\n",
    "model_face.eval()\n",
    "test_loss_face = 0.0\n",
    "\n",
    "with torch.no_grad():\n",
    "  for data in testloader_face:\n",
    "      # Get feature and target from the data loader\n",
    "      X_f, y_f = data\n",
    "\n",
    "      # Get predictions\n",
    "      pred_f = model_face(X_f)\n",
    "      loss = criterion_face(pred_f,y_f)\n",
    "      \n",
    "      # Sum the current loss to the test_loss variable\n",
    "      test_loss_face += loss.item()\n",
    "      \n",
    "# Calculate the mean loss value\n",
    "test_loss_face = test_loss_face / len(testloader_face)\n",
    "print(f'Validation Set: Loss >> {test_loss_face}')"
   ]
  },
  {
   "cell_type": "markdown",
   "id": "ccf64f4d-69ca-4501-a6f9-cc6b16f0d56e",
   "metadata": {},
   "source": [
    "#### Animal Dataset"
   ]
  },
  {
   "cell_type": "code",
   "execution_count": 30,
   "id": "de1ff98d-0612-47a4-a6a9-b9403d3e3752",
   "metadata": {},
   "outputs": [
    {
     "name": "stdout",
     "output_type": "stream",
     "text": [
      "Validation Set: Loss >> 1.9442341327667236\n"
     ]
    }
   ],
   "source": [
    "# Reproduce the evaluation mode with the recently created animal model\n",
    "# using validation loader\n",
    "model_a.eval()\n",
    "validation_loss_a = 0.0\n",
    "with torch.no_grad():\n",
    "    for data in valloader_a:\n",
    "        # Get feature and target from the data loader\n",
    "        X_a, y_a = data\n",
    "\n",
    "        # Get predictions\n",
    "        pred_a = model_a(X_a)\n",
    "        \n",
    "        # Compute loss\n",
    "        loss = criterion_a(pred_a, y_a)\n",
    "        validation_loss_a += loss.item()\n",
    "\n",
    "# Calculate the mean loss value\n",
    "validation_loss_a = validation_loss_a / len(valloader_a)\n",
    "print(f'Validation Set: Loss >> {validation_loss_a}')"
   ]
  },
  {
   "cell_type": "code",
   "execution_count": 31,
   "id": "3aea1912-0509-440c-9b27-84defec1db3f",
   "metadata": {},
   "outputs": [
    {
     "name": "stdout",
     "output_type": "stream",
     "text": [
      "Test Set: Loss >> 1.6684391498565674\n"
     ]
    }
   ],
   "source": [
    "# Reproduce the evaluation mode with the recently created animal model\n",
    "# using test loader\n",
    "model_a.eval()\n",
    "test_loss_a = 0.0\n",
    "with torch.no_grad():\n",
    "    for data in testloader_a:\n",
    "        # Get feature and target from the data loader\n",
    "        X_a, y_a = data\n",
    "\n",
    "        # Get predictions\n",
    "        pred_a = model_a(X_a)\n",
    "        \n",
    "        # Compute loss\n",
    "        loss = criterion_a(pred_a, y_a)\n",
    "        test_loss_a += loss.item()\n",
    "\n",
    "# Calculate the mean loss value\n",
    "test_loss_a = test_loss_a / len(testloader_a)\n",
    "print(f'Test Set: Loss >> {test_loss_a}')"
   ]
  },
  {
   "cell_type": "markdown",
   "id": "471824ee-0e31-4072-8da2-10301c0db19d",
   "metadata": {},
   "source": [
    "### Ex.4 - Calculating accuracy using torchmetrics\n",
    "In addition to the losses, you should also be keeping track of the accuracy during training. By doing so, you will be able to select the epoch when the model performed the best.\n",
    "\n",
    "In this exercise, you will practice using the torchmetrics package to calculate the accuracy. You will be using a sample of the facemask dataset. This dataset contains three different classes. The plot_errors function will display samples where the model predictions do not match the ground truth. Performing such error analysis will help you understand your model failure modes.\n",
    "\n",
    "The torchmetrics package is already imported. The model outputs are the probabilities returned by a softmax as the last step of the model. The labels tensor contains the labels as one-hot encoded vectors.\n",
    "\n",
    "**Instructions**\n",
    "\n",
    "1. Create an accuracy metric for a \"multiclass\" problem with three classes.\n",
    "2. Calculate the accuracy for each batch of the dataloader.\n",
    "3. Calculate accuracy for the epoch.\n",
    "4. Reset the metric for the next epoch."
   ]
  },
  {
   "cell_type": "code",
   "execution_count": 32,
   "id": "35e62762-6731-4280-9097-932506246b6e",
   "metadata": {},
   "outputs": [],
   "source": [
    "# Utilities\n",
    "def plot_errors(model, dataloader):\n",
    "    # find mismatches\n",
    "    mismatches = []\n",
    "    for data in dataloader:\n",
    "        if len(mismatches) > 8:\n",
    "            break\n",
    "        features, labels = data\n",
    "        outputs = model(features)\n",
    "        gt = labels.argmax(-1)\n",
    "        pred = outputs.argmax(-1)\n",
    "        for f, g, p in zip(features, gt, pred):\n",
    "            if g != p:\n",
    "                mismatches.append((f, g, p))\n",
    "\n",
    "    grid_size = (1, 1) if len(mismatches) == 1 else (2, int(len(mismatches)/2))\n",
    "    fig = plt.figure(figsize=(6, 6))\n",
    "    grid = ImageGrid(fig, 111,  # similar to subplot(111)\n",
    "                     nrows_ncols=(grid_size[0], grid_size[1]),  # creates 2x2 grid of axes\n",
    "                     axes_pad=0.5,  # pad between axes in inch.\n",
    "                     )\n",
    "    mapping = {0: 'No mask', 1: 'Mask', 2: 'Incorrect'}\n",
    "    for idx, ax in enumerate(grid):\n",
    "        ax.imshow(mismatches[idx][0].permute(1, 2, 0))\n",
    "        ax.set_title(f'GT: {mapping[mismatches[idx][1].item()]}\\n'\n",
    "                     f'PRED: {mapping[mismatches[idx][2].item()]}',\n",
    "                     fontsize=8)\n",
    "        ax.axis('off')\n",
    "    plt.show()"
   ]
  },
  {
   "cell_type": "markdown",
   "id": "6701a0d7-8c71-44c4-8b75-00cfccd942e6",
   "metadata": {},
   "source": [
    "#### FaceMask Dataset"
   ]
  },
  {
   "cell_type": "code",
   "execution_count": 33,
   "id": "458b2590-68a1-4095-9d0a-248a1cdf1930",
   "metadata": {},
   "outputs": [
    {
     "name": "stdout",
     "output_type": "stream",
     "text": [
      "Accuracy on all data: 0.8857142925262451\n"
     ]
    },
    {
     "data": {
      "image/png": "[encoded data removed]",
      "text/plain": [
       "<Figure size 600x600 with 8 Axes>"
      ]
     },
     "metadata": {},
     "output_type": "display_data"
    }
   ],
   "source": [
    "# Create accuracy metric using torch metrics\n",
    "metric_face = torchmetrics.Accuracy(task=\"multiclass\", num_classes=3)\n",
    "model_face.eval()\n",
    "for data in testloader_face:\n",
    "    features_face, labels_face = data\n",
    "    preds_face = model_face(features_face)\n",
    "    \n",
    "    # Calculate accuracy over the batch\n",
    "    acc_face = metric_face(preds_face, labels_face.argmax(dim=-1))\n",
    "\n",
    "# Calculate accuracy over the whole epoch\n",
    "acc_face = metric_face.compute()\n",
    "print(f\"Accuracy on all data: {acc_face}\")\n",
    "\n",
    "# Reset the metric for the next epoch \n",
    "metric_face.reset()\n",
    "plot_errors(model_face, testloader_face)"
   ]
  },
  {
   "cell_type": "markdown",
   "id": "d6b0661f-a130-45fe-8b25-9f503244e218",
   "metadata": {},
   "source": [
    "## 4.3 Fighting overfitting\n",
    "\n",
    "### \"Regularization\" using a dropout layer"
   ]
  },
  {
   "cell_type": "code",
   "execution_count": 34,
   "id": "a1ce6f91-c0bf-4529-8646-3de0d66b09f6",
   "metadata": {},
   "outputs": [
    {
     "data": {
      "text/plain": [
       "tensor([[1.0026257038, 0.0000000000, 1.5434504747, 0.4614934921]],\n",
       "       grad_fn=<MulBackward0>)"
      ]
     },
     "execution_count": 34,
     "metadata": {},
     "output_type": "execute_result"
    }
   ],
   "source": [
    "model = nn.Sequential(\n",
    "    nn.Linear(8, 4),\n",
    "    nn.ReLU(),\n",
    "    nn.Dropout(p=0.5)\n",
    ")\n",
    "features = torch.randn((1, 8))\n",
    "model(features)"
   ]
  },
  {
   "cell_type": "markdown",
   "id": "ee9d0cf2-0f76-4926-88ed-567cbc91fb6b",
   "metadata": {},
   "source": [
    "### Regularization with weight decay"
   ]
  },
  {
   "cell_type": "code",
   "execution_count": 35,
   "id": "c95d6bb3-774d-4ba4-84b8-05d60ce7bab0",
   "metadata": {},
   "outputs": [],
   "source": [
    "optimizer = optim.SGD(model.parameters(), lr=1e-3, weight_decay=1e-4)"
   ]
  },
  {
   "cell_type": "markdown",
   "id": "acc4e4e6-d6ed-4516-bc2a-7713b3bee1cf",
   "metadata": {},
   "source": [
    "### Data augmentation"
   ]
  },
  {
   "cell_type": "code",
   "execution_count": 36,
   "id": "a0f837a0-acf8-4dd7-8b2f-ce3eb3ef3743",
   "metadata": {},
   "outputs": [
    {
     "name": "stdout",
     "output_type": "stream",
     "text": [
      "Image Original: torch.Size([3, 32, 32]), tensor([-1.0754086971, -0.6555078626, -0.5378220081, -0.3389993906,\n",
      "        -0.2735834718])\n",
      "Image Original: torch.Size([3, 32, 32]), tensor([-0.9207187891, -0.6282665133,  0.0403232016, -1.9813779593,\n",
      "        -0.9896361828])\n"
     ]
    }
   ],
   "source": [
    "# For one image\n",
    "H, W = 32, 32\n",
    "img = torch.randn(size=(3, H, W))\n",
    "print(f\"\"\"Image Original: {img.shape}, {img[0,0,:5]}\"\"\")\n",
    "\n",
    "transforms = v2.Compose([\n",
    "    v2.RandomHorizontalFlip(p=1),\n",
    "    # v2.RandomVerticalFlip(p=1),\n",
    "    v2.RandomRotation(degrees=0.25)\n",
    "])\n",
    "img2 = transforms(img)\n",
    "print(f\"\"\"Image Original: {img2.shape}, {img2[0,0,:5]}\"\"\")"
   ]
  },
  {
   "cell_type": "code",
   "execution_count": 37,
   "id": "ac2313f5-7879-415b-b988-46edc2b64831",
   "metadata": {},
   "outputs": [
    {
     "name": "stdout",
     "output_type": "stream",
     "text": [
      "Image Original: torch.Size([100, 3, 32, 32]), tensor([-1.4802397490, -0.0286441874, -1.3437269926,  1.9430443048,\n",
      "         0.3965672255])\n",
      "Image Original: torch.Size([100, 3, 32, 32]), tensor([ 0.0726564080,  1.0365434885, -1.6077550650,  0.3780807555,\n",
      "         0.9528230429])\n"
     ]
    }
   ],
   "source": [
    "# For multiple images\n",
    "H, W = 32, 32\n",
    "img = torch.randn(size=(100, 3, H, W))\n",
    "print(f\"\"\"Image Original: {img.shape}, {img[0,0,0,:5]}\"\"\")\n",
    "\n",
    "img2 = transforms(img)\n",
    "print(f\"\"\"Image Original: {img2.shape}, {img2[0,0,0,:5]}\"\"\")"
   ]
  },
  {
   "cell_type": "markdown",
   "id": "3a57d11c-b9b2-4330-977c-c39d0551317b",
   "metadata": {},
   "source": [
    "### Ex.5 - Experimenting with dropout\n",
    "The dropout layer randomly zeroes out elements of the input tensor. Doing so helps fight overfitting. In this exercise, you'll create a small neural network with one linear layer, one dropout layer, and one activation function.\n",
    "\n",
    "The torch.nn package has already been imported as nn. An input_tensor of dimensions \n",
    " has been created for you.\n",
    "\n",
    "**Instructions**\n",
    "\n",
    "1. Create a small neural network with one linear layer, one ReLU function, and one dropout layer, in that order.\n",
    "The model should take input_tensor as input and return an output of size 16.\n",
    "2. Using the same neural network, set the probability of zeroing out elements in the dropout layer to 0.8."
   ]
  },
  {
   "cell_type": "code",
   "execution_count": 38,
   "id": "2237f3fa-1e5f-4454-9eea-25ffa95737a2",
   "metadata": {},
   "outputs": [
    {
     "data": {
      "text/plain": [
       "tensor([[0.0000000000, 1.2192028761, 0.0000000000, 0.0000000000, 0.0000000000,\n",
       "         0.0000000000, 0.7582120299, 0.0000000000, 0.0000000000, 0.0000000000,\n",
       "         0.0000000000, 0.5747761130, 0.4815210402, 0.0000000000, 1.4105589390,\n",
       "         0.0592599101]], grad_fn=<MulBackward0>)"
      ]
     },
     "execution_count": 38,
     "metadata": {},
     "output_type": "execute_result"
    }
   ],
   "source": [
    "# Create a small neural network with one linear layer, one ReLU function, \n",
    "# and one dropout layer, in that order. The model should take input_tensor a\n",
    "# s input and return an output of size 16.\n",
    "input_tensor = torch.randn(size=(1, 3072))\n",
    "model = nn.Sequential(\n",
    "    nn.Linear(3072, 16),\n",
    "    nn.ReLU(),\n",
    "    nn.Dropout(p=0.5)\n",
    ")\n",
    "model(input_tensor)"
   ]
  },
  {
   "cell_type": "code",
   "execution_count": 39,
   "id": "25ae8726-0d31-4220-9786-3dd1e33e306f",
   "metadata": {},
   "outputs": [
    {
     "data": {
      "text/plain": [
       "tensor([[0.0000000000, 0.0000000000, 0.0000000000, 0.0000000000, 0.0000000000,\n",
       "         0.0000000000, 0.0000000000, 0.0000000000, 0.0000000000, 0.0000000000,\n",
       "         0.0000000000, 1.2595785856, 0.0000000000, 0.0000000000, 0.0000000000,\n",
       "         0.0000000000]], grad_fn=<MulBackward0>)"
      ]
     },
     "execution_count": 39,
     "metadata": {},
     "output_type": "execute_result"
    }
   ],
   "source": [
    "# Using the same neural network, set the probability of zeroing out elements \n",
    "# in the dropout layer to 0.8.\n",
    "model = nn.Sequential(\n",
    "    nn.Linear(3072, 16),\n",
    "    nn.ReLU(),\n",
    "    nn.Dropout(p=0.8)\n",
    ")\n",
    "model(input_tensor)"
   ]
  },
  {
   "cell_type": "markdown",
   "id": "5311d670-c347-4faa-9cc1-0ede03d82a96",
   "metadata": {},
   "source": [
    "## 4.4 Improving model performance\n",
    "\n",
    "### Steps to maximize performance\n",
    "- Overfit the training set\n",
    "    - can we solve the problem?\n",
    "    - sets a performance baseline\n",
    "- Reduce overfitting\n",
    "    - improve performances on the validation set\n",
    "- Fine-tune hyperparameters"
   ]
  },
  {
   "cell_type": "code",
   "execution_count": 40,
   "id": "ccf634f1-2c6e-46a6-8135-2bfc4a04c502",
   "metadata": {},
   "outputs": [],
   "source": [
    "# Util functions\n",
    "def optimize_and_plot(\n",
    "    model, X, y, optimizer, criterion,\n",
    "    num_epochs=100\n",
    "):\n",
    "    losses = []\n",
    "    model.train()\n",
    "    for epoch in range(num_epochs):\n",
    "        # Forward pass\n",
    "        y_pred = model(X)\n",
    "        loss = criterion(y_pred, y)\n",
    "\n",
    "        # Backward pass and optimization\n",
    "        optimizer.zero_grad()\n",
    "        loss.backward()\n",
    "        optimizer.step()\n",
    "\n",
    "        # Save the loss for plotting\n",
    "        losses.append(loss.item())\n",
    "\n",
    "        # Print the loss every 100 epochs and add a red marker\n",
    "        if (epoch + 1) % 100 == 0:\n",
    "            print(f'Epoch [{epoch+1}/{num_epochs}], Loss: {loss.item():.10f}')\n",
    "            plt.scatter(epoch + 1, loss.item(), color='red', marker='o')\n",
    "\n",
    "    # Plot the loss over epochs\n",
    "    plt.plot(range(1, num_epochs+1), losses, label='Training Loss')\n",
    "    plt.xlabel('Epoch')\n",
    "    plt.ylabel('Loss')\n",
    "    plt.title('Training Loss Over Epochs')\n",
    "    plt.legend()\n",
    "    plt.show()"
   ]
  },
  {
   "cell_type": "markdown",
   "id": "999420fa-25d7-421e-9eca-b051aff3a3d1",
   "metadata": {},
   "source": [
    "### Working again with the FaceMask"
   ]
  },
  {
   "cell_type": "code",
   "execution_count": 41,
   "id": "71e4099c-4687-4792-b1e1-2b98639d890f",
   "metadata": {},
   "outputs": [
    {
     "name": "stdout",
     "output_type": "stream",
     "text": [
      "Original shape in features: (355, 32, 32, 3) = 3072\n",
      "\n",
      "Features: <class 'torch.Tensor'> >> torch.Size([355, 3, 32, 32]) = 3072\n",
      "Target  : <class 'torch.Tensor'> >> torch.Size([355, 3]) = 3\n",
      "\n"
     ]
    }
   ],
   "source": [
    "# Getting X and y\n",
    "X, y = pd.read_pickle('data-sources/masks_dataset.pickle')\n",
    "print(f\"Original shape in features: {X.shape} = {np.prod(X.shape[1:])}\")\n",
    "\n",
    "# Reshaping the images set to have the channel in the second dimension\n",
    "X = torch.tensor(np.transpose(X, (0, 3, 1, 2)))\n",
    "\n",
    "# Encoding the target variable\n",
    "y = F.one_hot(torch.tensor(y), num_classes=len(set(y)))\n",
    "print(f\"\"\"\n",
    "Features: {type(X)} >> {X.shape} = {np.prod(X.shape[1:])}\n",
    "Target  : {type(y)} >> {y.shape} = {np.prod(y.shape[1:])}\n",
    "\"\"\")"
   ]
  },
  {
   "cell_type": "code",
   "execution_count": 42,
   "id": "b7e0173b-eee7-4585-8097-00fb765068f3",
   "metadata": {},
   "outputs": [
    {
     "name": "stdout",
     "output_type": "stream",
     "text": [
      "Train size: 284, Val size: 36, Test size: 35\n"
     ]
    }
   ],
   "source": [
    "# Instantiate dataset class and splitting into train, val and test set\n",
    "dataset = TensorDataset(X.float(), y.float())\n",
    "\n",
    "# Reproducibility\n",
    "torch.manual_seed(SEED)\n",
    "\n",
    "# Splitting into training, validation and testing set\n",
    "train_set, val_set = torch.utils.data.random_split(dataset, [.8, .2])\n",
    "val_set, test_set = torch.utils.data.random_split(val_set, [.5, .5])\n",
    "\n",
    "len(train_set), len(val_set), len(test_set)\n",
    "\n",
    "# Recalling the DataLoader\n",
    "shuffle = True\n",
    "train_loader = DataLoader(train_set, shuffle=shuffle)\n",
    "val_loader = DataLoader(val_set, shuffle=shuffle)\n",
    "test_loader = DataLoader(test_set, shuffle=shuffle)\n",
    "\n",
    "# print shape of each loader\n",
    "print(f\"Train size: {len(train_loader)}, Val size: {len(val_loader)}, Test size: {len(test_loader)}\")"
   ]
  },
  {
   "cell_type": "code",
   "execution_count": 43,
   "id": "9a9b6eb8-71bc-4ff3-9876-00271e1b01b3",
   "metadata": {},
   "outputs": [
    {
     "data": {
      "text/plain": [
       "Sequential(\n",
       "  (0): Normalize(mean=[0.5137812899236973, 0.4499961909157517, 0.422587966943309], std=[0.250811625348822, 0.24213039004760292, 0.24616128365795462], inplace=False)\n",
       "  (1): Flatten(start_dim=1, end_dim=-1)\n",
       "  (2): Linear(in_features=3072, out_features=3, bias=True)\n",
       "  (3): Softmax(dim=-1)\n",
       ")"
      ]
     },
     "execution_count": 43,
     "metadata": {},
     "output_type": "execute_result"
    }
   ],
   "source": [
    "# Getting mean and std per channel in images:\n",
    "mean = np.mean(X.numpy(), axis=(0, 2, 3))\n",
    "std = np.std(X.numpy(), axis=(0, 2, 3))\n",
    "\n",
    "# Setting the model\n",
    "model = nn.Sequential(\n",
    "    v2.Normalize(mean=mean, std=std),\n",
    "    nn.Flatten(),\n",
    "    nn.Linear(3072, 3),\n",
    "    nn.Softmax(dim=-1)  # Softmax activation\n",
    ")\n",
    "\n",
    "# Create the loss and Optimizer\n",
    "criterion = CrossEntropyLoss()\n",
    "optimizer = optim.SGD(model.parameters(), lr=0.001, momentum=0.85)\n",
    "# optimizer = optim.SGD(model.parameters(), lr=1e-3, weight_decay=1e-4)\n",
    "\n",
    "model"
   ]
  },
  {
   "cell_type": "markdown",
   "id": "ec4faa47-3652-4f25-b4c9-512b9ccafc4f",
   "metadata": {},
   "source": [
    "#### Step 1 - overfit the training set"
   ]
  },
  {
   "cell_type": "code",
   "execution_count": 44,
   "id": "e4a9243e-ed16-4fd3-8bd6-192a09a2b9a9",
   "metadata": {},
   "outputs": [
    {
     "name": "stdout",
     "output_type": "stream",
     "text": [
      "Epoch [100], Loss: 0.5515, Accuracy: 1.0\n",
      "Epoch [200], Loss: 0.5515, Accuracy: 1.0\n",
      "Epoch [300], Loss: 0.5515, Accuracy: 1.0\n",
      "Epoch [400], Loss: 0.5515, Accuracy: 1.0\n",
      "Epoch [500], Loss: 0.5515, Accuracy: 1.0\n",
      "Epoch [600], Loss: 0.5515, Accuracy: 1.0\n",
      "Epoch [700], Loss: 0.5515, Accuracy: 1.0\n",
      "Epoch [800], Loss: 0.5515, Accuracy: 1.0\n",
      "Epoch [900], Loss: 0.5515, Accuracy: 1.0\n",
      "Epoch [1000], Loss: 0.5515, Accuracy: 1.0\n",
      "\n",
      "Accuracy on training set: 1.0\n",
      "Last loss: 0.5514927506446838\n",
      "\n"
     ]
    }
   ],
   "source": [
    "# Setting the accuracy metric\n",
    "metric_accuracy = torchmetrics.Accuracy(task=\"multiclass\", num_classes=3)\n",
    "\n",
    "# model training\n",
    "features, labels = next(iter(train_loader))\n",
    "model.train()\n",
    "for i in range(int(1e3)):\n",
    "    optimizer.zero_grad()  # zero the parameter gradients\n",
    "    outputs = model(features)  # Run a forward pass\n",
    "    loss = criterion(outputs, labels)  # Compute loss \n",
    "    loss.backward()  # Backward pass and optimization\n",
    "    optimizer.step()\n",
    "    accuracy = metric_accuracy(outputs, labels.argmax(dim=-1))\n",
    "\n",
    "    # Print the loss every 100 epochs and add a red marker\n",
    "    if (i + 1) % 100 == 0:\n",
    "        print(f'Epoch [{i+1}], Loss: {loss.item():.4f}, Accuracy: {accuracy}')\n",
    "\n",
    "# Calculate accuracy over the whole epoch\n",
    "accuracy_training = metric_accuracy.compute()\n",
    "print(f\"\"\"\n",
    "Accuracy on training set: {accuracy}\n",
    "Last loss: {loss}\n",
    "\"\"\")"
   ]
  },
  {
   "cell_type": "code",
   "execution_count": 45,
   "id": "9fa4e532-3814-428d-8af4-f8a71a8c7af6",
   "metadata": {},
   "outputs": [
    {
     "name": "stdout",
     "output_type": "stream",
     "text": [
      "Epoch [100/1000], Loss: 0.5514901876\n",
      "Epoch [200/1000], Loss: 0.5514879823\n",
      "Epoch [300/1000], Loss: 0.5514860153\n",
      "Epoch [400/1000], Loss: 0.5514841676\n",
      "Epoch [500/1000], Loss: 0.5514825583\n",
      "Epoch [600/1000], Loss: 0.5514810681\n",
      "Epoch [700/1000], Loss: 0.5514796376\n",
      "Epoch [800/1000], Loss: 0.5514782667\n",
      "Epoch [900/1000], Loss: 0.5514770150\n",
      "Epoch [1000/1000], Loss: 0.5514760017\n"
     ]
    },
    {
     "data": {
      "image/png": "[encoded data removed]",
      "text/plain": [
       "<Figure size 640x480 with 1 Axes>"
      ]
     },
     "metadata": {},
     "output_type": "display_data"
    }
   ],
   "source": [
    "optimize_and_plot(\n",
    "    model=model, X=features, y=labels,\n",
    "    optimizer=optimizer, criterion=criterion, num_epochs=int(1e3)\n",
    ")"
   ]
  },
  {
   "cell_type": "markdown",
   "id": "a3e06eae-375d-4a9b-b6e6-5b87ec3ca1fa",
   "metadata": {},
   "source": [
    "#### Step 2 - Reduce overfitting"
   ]
  },
  {
   "cell_type": "code",
   "execution_count": 46,
   "id": "3d20d24d-86c4-4d24-9897-ad02875cbd0d",
   "metadata": {},
   "outputs": [
    {
     "name": "stdout",
     "output_type": "stream",
     "text": [
      "Accuracy on Training set: 1.0\n",
      "Accuracy on Validation set: 0.5277777910232544\n"
     ]
    }
   ],
   "source": [
    "# Getting the accuracy in validation set\n",
    "metric_accuracy = torchmetrics.Accuracy(task=\"multiclass\", num_classes=3)\n",
    "model.eval()\n",
    "for data in val_loader:\n",
    "    # Predict\n",
    "    features, labels = data\n",
    "    outputs = model(features)\n",
    "    \n",
    "    # Calculate accuracy over the batch\n",
    "    accuracy = metric_accuracy(outputs, labels.argmax(dim=-1))\n",
    "\n",
    "# Calculate accuracy over the whole set\n",
    "accuracy_validation = metric_accuracy.compute()\n",
    "print(f\"Accuracy on Training set: {accuracy_training}\")\n",
    "print(f\"Accuracy on Validation set: {accuracy_validation}\")"
   ]
  },
  {
   "cell_type": "markdown",
   "id": "f6dd1aa4-79f3-448c-af6f-bc798a7633ff",
   "metadata": {},
   "source": [
    "#### Step 3 - fine-tune hyperparameters"
   ]
  },
  {
   "cell_type": "code",
   "execution_count": 47,
   "id": "e4d8e442-bbe5-4335-aa8d-20fbd216d1a6",
   "metadata": {},
   "outputs": [
    {
     "name": "stdout",
     "output_type": "stream",
     "text": [
      "[0.01, 0.001, 0.0001, 1e-05]\n"
     ]
    }
   ],
   "source": [
    "# Grid search\n",
    "lr = []\n",
    "for factor in range(2, 6):\n",
    "    lr.append(10 ** -factor)\n",
    "print(lr)"
   ]
  },
  {
   "cell_type": "code",
   "execution_count": 48,
   "id": "8e7ff7fd-fb52-4fe9-92a7-717f2883ba72",
   "metadata": {},
   "outputs": [
    {
     "name": "stdout",
     "output_type": "stream",
     "text": [
      "[0.00121565 0.00492131]\n"
     ]
    }
   ],
   "source": [
    "# Random search\n",
    "factor = np.random.uniform(2, 6, size=2)\n",
    "lr = 10 ** -factor\n",
    "print(lr)"
   ]
  },
  {
   "cell_type": "markdown",
   "id": "5b591700-4249-4e99-b411-7f35b5ee1f00",
   "metadata": {},
   "source": [
    "### Ex.6 - Implementing random search\n",
    "Hyperparameter search is a computationally costly approach to experiment with different hyperparameter values. However, it can lead to performance improvements. In this exercise, you will implement a random search algorithm.\n",
    "\n",
    "You will randomly sample 10 values of the learning rate and momentum from the uniform distribution. To do so, you will use the `np.random.uniform()` function.\n",
    "\n",
    "The `numpy` package has already been imported as `np`.\n",
    "\n",
    "**Instructions**\n",
    "\n",
    "1. Randomly sample a learning rate factor between `2` and `4` so that the learning rate (`lr`) is bounded between $ 10^{-2} $ and $ 10^{-4} $\n",
    "2. Randomly sample a momentum between 0.85 and 0.99."
   ]
  },
  {
   "cell_type": "code",
   "execution_count": 49,
   "id": "7ec646fd-a190-4eef-9ad7-d5959a7335b5",
   "metadata": {},
   "outputs": [
    {
     "name": "stdout",
     "output_type": "stream",
     "text": [
      "[(0.0017820494960458736, 0.9831000028973882),\n",
      " (0.00034356753295316134, 0.9338121877875851),\n",
      " (0.00487486641279196, 0.8718392328470683),\n",
      " (0.00765301872013926, 0.9712646604084909),\n",
      " (0.0006277257966292396, 0.9491301608914464),\n",
      " (0.009095592845966645, 0.9857873793026792),\n",
      " (0.00021632898788517975, 0.8797274754949587),\n",
      " (0.004328626018623386, 0.8756766313794807),\n",
      " (0.002463289831513468, 0.9234659004285133),\n",
      " (0.0013680751763426263, 0.8907720796277259)]\n"
     ]
    }
   ],
   "source": [
    "# Reproducibility\n",
    "np.random.seed(SEED)\n",
    "\n",
    "# Randomly select lr and momentum\n",
    "values = []\n",
    "for idx in range(10):\n",
    "    # Randomly sample a learning rate factor between 2 and 4\n",
    "    factor = np.random.uniform(2, 4)\n",
    "    lr = 10 ** -factor\n",
    "    \n",
    "    # Randomly select a momentum between 0.85 and 0.99\n",
    "    momentum = np.random.uniform(0.85, 0.99)\n",
    "    \n",
    "    values.append((lr, momentum))\n",
    "pprint(values)"
   ]
  },
  {
   "cell_type": "markdown",
   "id": "704de7f9-934e-425b-8931-5bf4fc289ec7",
   "metadata": {},
   "source": [
    "-------------------------------------"
   ]
  }
 ],
 "metadata": {
  "kernelspec": {
   "display_name": "Python 3 (ipykernel)",
   "language": "python",
   "name": "python3"
  },
  "language_info": {
   "codemirror_mode": {
    "name": "ipython",
    "version": 3
   },
   "file_extension": ".py",
   "mimetype": "text/x-python",
   "name": "python",
   "nbconvert_exporter": "python",
   "pygments_lexer": "ipython3",
   "version": "3.8.19"
  }
 },
 "nbformat": 4,
 "nbformat_minor": 5
}
